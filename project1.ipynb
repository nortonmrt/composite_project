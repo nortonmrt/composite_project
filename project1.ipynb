{
 "cells": [
  {
   "cell_type": "markdown",
   "id": "063f90cc",
   "metadata": {},
   "source": [
    "Autores: \n",
    "- Fernando Basso Gresele\n",
    "- Hyan Schubert\n",
    "- Norton Martin Reichert Trennepohl"
   ]
  },
  {
   "cell_type": "markdown",
   "id": "e1be32f4",
   "metadata": {},
   "source": [
    "## Bibliotecas:"
   ]
  },
  {
   "cell_type": "code",
   "execution_count": 5,
   "id": "a84cfe7c",
   "metadata": {},
   "outputs": [],
   "source": [
    "# Bibliotecas básicas\n",
    "import numpy as np\n",
    "import math\n",
    "import matplotlib \n",
    "\n",
    "# Bibliotecas gráficas\n",
    "import matplotlib.pyplot as plt\n",
    "# Configurações dos gráficos\n",
    "matplotlib.rc('font', family = 'Arial')\n",
    "matplotlib.rc('font', size = 14)\n",
    "\n",
    "# Para mostrar apenas 3 casas decimais\n",
    "np.set_printoptions(precision=3)"
   ]
  },
  {
   "cell_type": "markdown",
   "id": "05887205",
   "metadata": {},
   "source": [
    "## Constantes e dados de entrada:"
   ]
  },
  {
   "cell_type": "code",
   "execution_count": 6,
   "id": "ca774190",
   "metadata": {},
   "outputs": [],
   "source": [
    "# Número de lâminas\n",
    "n = int(input('Número de lâminas:'))\n",
    "\n",
    "# Inicialização de vetores\n",
    "direc_deg = [[0 for _ in range(1)] for _ in range(n)]\n",
    "direc = [[0 for _ in range(1)] for _ in range(n)]\n",
    "\n",
    "# Orientação da lâmina: informar em graus, de cima para baixo\n",
    "for i in range(n):\n",
    "    direc_deg[i] = int(input('Direção da lâmina %d: ' %(i+1)))\n",
    "    direc[i] = np.radians(direc_deg[i])\n",
    "    \n",
    "#Vetor de carregamentos \n",
    "Nx = float(input('Força normal Nx (em N/mm):'))\n",
    "Ny = float(input('Força normal Ny (em N/mm):'))\n",
    "Nxy = float(input('Força cisalhante Nxy (em N/mm):'))\n",
    "Mx = float(input('Momento Mx (em Nmm/mm):'))\n",
    "My = float(input('Momento My (em Nmm/mm):'))\n",
    "Mxy = float(input('Momento Mxy (Nmm/mm):'))\n",
    "\n",
    "carreg = [[Nx*1000],[Ny*1000],[Nxy*1000],[Mx],[My],[Mxy]] # N/m\n",
    "\n",
    "#Espessura de cada lâmina (esp): informar \n",
    "esp = float(input('Espessura (em m):'))\n",
    "\n",
    "#Espessura do laminado\n",
    "h = n*esp #m\n",
    "\n",
    "# Dados do material: informar aqui:\n",
    "E11 = float(input('Módulo de elasticidade na direção 1 (em Pa):'))\n",
    "E22 = float(input('Módulo de elasticidade na direção 2 (em Pa):'))\n",
    "nu12 = float(input('Coeficiente de Poisson:'))\n",
    "G12 = float(input('Módulo de cisalhamento (em Pa):'))\n",
    "\n",
    "#Relação entre coeficientes de Poisson\n",
    "nu21 = (E22*nu12)/E11\n",
    "\n",
    "#Relação entre coeficientes de Poisson\n",
    "nu21 = (E22*nu12)/E11\n",
    "\n",
    "# Resistências do material: informar em Pa:\n",
    "XT = float(input('Limite de resistência a tração na direção 1 (em Pa):'))\n",
    "XC = float(input('Limite de resistência a compressão na direção 1 (em Pa):'))\n",
    "YT = float(input('Limite de resistência a tração na direção 2 (em Pa):'))\n",
    "YC = float(input('Limite de resistência a compressão na direção 2 (em Pa):'))\n",
    "S12 = float(input('Limite de resistência ao cisalhamento (em Pa):'))\n"
   ]
  },
  {
   "cell_type": "markdown",
   "id": "96bd7f24",
   "metadata": {},
   "source": [
    "## Matriz de rigidez reduzida transformada no sistema global de coordenadas:"
   ]
  },
  {
   "cell_type": "code",
   "execution_count": 7,
   "id": "cd908377",
   "metadata": {},
   "outputs": [],
   "source": [
    "Q11 = E11/(1-nu12*nu21)\n",
    "Q22 = E22/(1-nu12*nu21)\n",
    "Q66 = G12\n",
    "Q12 = (nu12*E22)/(1-nu12*nu21)\n",
    "Q21 = Q12\n",
    "\n",
    "Q = np.array([[Q11, Q12, 0],[Q21, Q22, 0], [0, 0, Q66]])\n",
    "\n",
    "cos = np.cos(direc)\n",
    "sin = np.sin(direc)\n",
    "\n",
    "# Inicialização dos vetores:\n",
    "T = [[0 for _ in range(1)] for _ in range(n)]\n",
    "T_inv = [[0 for _ in range(1)] for _ in range(n)]\n",
    "Q_dash = [[0 for _ in range(1)] for _ in range(n)]\n",
    "Reuter = [[1,0,0],[0,1,0],[0,0,2]] # Matriz de Reuter\n",
    "\n",
    "# Cálculo da matriz Q_dash para cada uma das lâminas \n",
    "for i in range(n):\n",
    "    T[i] = np.array([[cos[i]**2, sin[i]**2, 2*sin[i]*cos[i]],[sin[i]**2, cos[i]**2, -2*sin[i]*cos[i]],[-sin[i]*cos[i], sin[i]*cos[i], cos[i]**2-sin[i]**2]])\n",
    "    T_inv[i] = np.linalg.inv(T[i])\n",
    "    Q_dash[i] = T_inv[i]@Q@Reuter@T[i]@np.linalg.inv(Reuter)\n"
   ]
  },
  {
   "cell_type": "markdown",
   "id": "cd890dca",
   "metadata": {},
   "source": [
    "## Matriz \"ABBD\":"
   ]
  },
  {
   "cell_type": "code",
   "execution_count": 8,
   "id": "dc38468f",
   "metadata": {},
   "outputs": [
    {
     "name": "stdout",
     "output_type": "stream",
     "text": [
      "Matriz ABBD:\n",
      "[[ 2.160e+08  6.683e+07  8.731e+05  0.000e+00 -5.912e-12  0.000e+00]\n",
      " [ 6.683e+07  2.126e+08  8.731e+05 -5.912e-12 -7.276e-12  0.000e+00]\n",
      " [ 8.731e+05  8.731e+05  7.373e+07  0.000e+00  0.000e+00 -1.364e-12]\n",
      " [ 0.000e+00 -5.912e-12  0.000e+00  2.314e+02  5.455e+01  6.608e-01]\n",
      " [-5.912e-12 -7.276e-12  0.000e+00  5.455e+01  2.270e+02  6.608e-01]\n",
      " [ 0.000e+00  0.000e+00 -1.364e-12  6.608e-01  6.608e-01  6.152e+01]]\n"
     ]
    }
   ],
   "source": [
    "# Matriz A: rigidez à tração e compressão\n",
    "# Inicialização\n",
    "A_local = [[0 for _ in range(1)] for _ in range(n)]\n",
    "B_local = [[0 for _ in range(1)] for _ in range(n)]\n",
    "D_local = [[0 for _ in range(1)] for _ in range(n)]\n",
    "A_global = 0\n",
    "B_global = 0\n",
    "D_global = 0\n",
    "\n",
    "for i in range(n):\n",
    "    A_local[i] = Q_dash[i]*(((((n/2)-(i+1))/n)*-h) - (((n/2 - i)/n)*-h))\n",
    "    #A_local[i] = Q_dash[i]*(h/n) # retorna os mesmos resultados, significa que está ok\n",
    "    A_global = A_global + A_local[i]\n",
    "    B_local[i] = 0.5*Q_dash[i]*(((((n/2)-(i+1))/n)*-h)**2 - (((n/2 - i)/n)*-h)**2)\n",
    "    B_global = B_global + B_local[i]\n",
    "    D_local[i] = (1/3)*Q_dash[i]*(((((n/2)-(i+1))/n)*-h)**3 - (((n/2 - i)/n)*-h)**3)\n",
    "    D_global = D_global + D_local[i]\n",
    "\n",
    "# Combinando as matrizes em uma só   \n",
    "linha1 = np.vstack((A_global,B_global))\n",
    "linha2 = np.vstack((B_global,D_global))\n",
    "ABBD = np.hstack((linha1,linha2))\n",
    "print(\"Matriz ABBD:\")\n",
    "print(ABBD)"
   ]
  },
  {
   "cell_type": "markdown",
   "id": "433a05ec",
   "metadata": {},
   "source": [
    "## Deformações no plano médio e curvatura em relação ao sistema global:"
   ]
  },
  {
   "cell_type": "code",
   "execution_count": 9,
   "id": "7e172fb3",
   "metadata": {},
   "outputs": [
    {
     "name": "stdout",
     "output_type": "stream",
     "text": [
      "[[ 4.805e-03]\n",
      " [-5.696e-04]\n",
      " [-5.015e-05]\n",
      " [-4.214e-17]\n",
      " [ 1.170e-16]\n",
      " [-1.917e-18]]\n"
     ]
    }
   ],
   "source": [
    "# Inicialização do vetor\n",
    "def_curv = [[0],[0],[0],[0],[0],[0]]\n",
    "\n",
    "def_curv = np.linalg.inv(ABBD)@carreg\n",
    "\n",
    "epsilon_0_global = np.vstack((def_curv[0],def_curv[1],def_curv[2]))\n",
    "K_global = np.vstack((def_curv[3],def_curv[4],def_curv[5]))\n",
    "\n",
    "print(def_curv)\n"
   ]
  },
  {
   "cell_type": "markdown",
   "id": "013424ab",
   "metadata": {},
   "source": [
    "Percebe-se que os valores de curvatura são muito baixos (podem ser considerados como nulos), o que já era esperado pois não é realizado momento sobre a estrutura. Isso indica que os resultados são condizentes."
   ]
  },
  {
   "cell_type": "markdown",
   "id": "884d7973",
   "metadata": {},
   "source": [
    "## Tensões e deformações em cada lâmina:"
   ]
  },
  {
   "cell_type": "code",
   "execution_count": 10,
   "id": "fc83c459",
   "metadata": {},
   "outputs": [
    {
     "name": "stdout",
     "output_type": "stream",
     "text": [
      "==============================\n",
      "Resultados lâmina 1:\n",
      "Tensão na lâmina no sistema global de coordenadas (MPa): \n",
      "[[ 3.687e+02]\n",
      " [-2.117e+01]\n",
      " [-3.260e-01]]\n",
      "Tensão na lâmina no sistema local de coordenadas (MPa):\n",
      "[[ 3.687e+02]\n",
      " [-2.117e+01]\n",
      " [-3.260e-01]]\n",
      "Deformação no plano médio da lâmina no sistema global de coordenadas:\n",
      "[[ 4.805e-03]\n",
      " [-5.696e-04]\n",
      " [-5.015e-05]]\n",
      "Deformação no plano médio da lâmina no sistema local de coordenadas:\n",
      "[[ 4.805e-03]\n",
      " [-5.696e-04]\n",
      " [-5.015e-05]]\n",
      "==============================\n",
      "Resultados lâmina 2:\n",
      "Tensão na lâmina no sistema global de coordenadas (MPa): \n",
      "[[205.989]\n",
      " [136.117]\n",
      " [  0.326]]\n",
      "Tensão na lâmina no sistema local de coordenadas (MPa):\n",
      "[[171.379]\n",
      " [170.727]\n",
      " [-34.936]]\n",
      "Deformação no plano médio da lâmina no sistema global de coordenadas:\n",
      "[[ 4.805e-03]\n",
      " [-5.696e-04]\n",
      " [-5.015e-05]]\n",
      "Deformação no plano médio da lâmina no sistema local de coordenadas:\n",
      "[[ 0.002]\n",
      " [ 0.002]\n",
      " [-0.003]]\n",
      "==============================\n",
      "Resultados lâmina 3:\n",
      "Tensão na lâmina no sistema global de coordenadas (MPa): \n",
      "[[ 3.687e+02]\n",
      " [-2.117e+01]\n",
      " [-3.260e-01]]\n",
      "Tensão na lâmina no sistema local de coordenadas (MPa):\n",
      "[[ 3.687e+02]\n",
      " [-2.117e+01]\n",
      " [-3.260e-01]]\n",
      "Deformação no plano médio da lâmina no sistema global de coordenadas:\n",
      "[[ 4.805e-03]\n",
      " [-5.696e-04]\n",
      " [-5.015e-05]]\n",
      "Deformação no plano médio da lâmina no sistema local de coordenadas:\n",
      "[[ 4.805e-03]\n",
      " [-5.696e-04]\n",
      " [-5.015e-05]]\n",
      "==============================\n",
      "Resultados lâmina 4:\n",
      "Tensão na lâmina no sistema global de coordenadas (MPa): \n",
      "[[205.989]\n",
      " [136.117]\n",
      " [  0.326]]\n",
      "Tensão na lâmina no sistema local de coordenadas (MPa):\n",
      "[[171.379]\n",
      " [170.727]\n",
      " [-34.936]]\n",
      "Deformação no plano médio da lâmina no sistema global de coordenadas:\n",
      "[[ 4.805e-03]\n",
      " [-5.696e-04]\n",
      " [-5.015e-05]]\n",
      "Deformação no plano médio da lâmina no sistema local de coordenadas:\n",
      "[[ 0.002]\n",
      " [ 0.002]\n",
      " [-0.003]]\n",
      "==============================\n",
      "Resultados lâmina 5:\n",
      "Tensão na lâmina no sistema global de coordenadas (MPa): \n",
      "[[ 3.687e+02]\n",
      " [-2.117e+01]\n",
      " [-3.260e-01]]\n",
      "Tensão na lâmina no sistema local de coordenadas (MPa):\n",
      "[[ 3.687e+02]\n",
      " [-2.117e+01]\n",
      " [-3.260e-01]]\n",
      "Deformação no plano médio da lâmina no sistema global de coordenadas:\n",
      "[[ 4.805e-03]\n",
      " [-5.696e-04]\n",
      " [-5.015e-05]]\n",
      "Deformação no plano médio da lâmina no sistema local de coordenadas:\n",
      "[[ 4.805e-03]\n",
      " [-5.696e-04]\n",
      " [-5.015e-05]]\n",
      "==============================\n",
      "Resultados lâmina 6:\n",
      "Tensão na lâmina no sistema global de coordenadas (MPa): \n",
      "[[205.989]\n",
      " [136.117]\n",
      " [  0.326]]\n",
      "Tensão na lâmina no sistema local de coordenadas (MPa):\n",
      "[[171.379]\n",
      " [170.727]\n",
      " [-34.936]]\n",
      "Deformação no plano médio da lâmina no sistema global de coordenadas:\n",
      "[[ 4.805e-03]\n",
      " [-5.696e-04]\n",
      " [-5.015e-05]]\n",
      "Deformação no plano médio da lâmina no sistema local de coordenadas:\n",
      "[[ 0.002]\n",
      " [ 0.002]\n",
      " [-0.003]]\n",
      "==============================\n",
      "Resultados lâmina 7:\n",
      "Tensão na lâmina no sistema global de coordenadas (MPa): \n",
      "[[205.989]\n",
      " [136.117]\n",
      " [  0.326]]\n",
      "Tensão na lâmina no sistema local de coordenadas (MPa):\n",
      "[[171.379]\n",
      " [170.727]\n",
      " [-34.936]]\n",
      "Deformação no plano médio da lâmina no sistema global de coordenadas:\n",
      "[[ 4.805e-03]\n",
      " [-5.696e-04]\n",
      " [-5.015e-05]]\n",
      "Deformação no plano médio da lâmina no sistema local de coordenadas:\n",
      "[[ 0.002]\n",
      " [ 0.002]\n",
      " [-0.003]]\n",
      "==============================\n",
      "Resultados lâmina 8:\n",
      "Tensão na lâmina no sistema global de coordenadas (MPa): \n",
      "[[ 3.687e+02]\n",
      " [-2.117e+01]\n",
      " [-3.260e-01]]\n",
      "Tensão na lâmina no sistema local de coordenadas (MPa):\n",
      "[[ 3.687e+02]\n",
      " [-2.117e+01]\n",
      " [-3.260e-01]]\n",
      "Deformação no plano médio da lâmina no sistema global de coordenadas:\n",
      "[[ 4.805e-03]\n",
      " [-5.696e-04]\n",
      " [-5.015e-05]]\n",
      "Deformação no plano médio da lâmina no sistema local de coordenadas:\n",
      "[[ 4.805e-03]\n",
      " [-5.696e-04]\n",
      " [-5.015e-05]]\n",
      "==============================\n",
      "Resultados lâmina 9:\n",
      "Tensão na lâmina no sistema global de coordenadas (MPa): \n",
      "[[205.989]\n",
      " [136.117]\n",
      " [  0.326]]\n",
      "Tensão na lâmina no sistema local de coordenadas (MPa):\n",
      "[[171.379]\n",
      " [170.727]\n",
      " [-34.936]]\n",
      "Deformação no plano médio da lâmina no sistema global de coordenadas:\n",
      "[[ 4.805e-03]\n",
      " [-5.696e-04]\n",
      " [-5.015e-05]]\n",
      "Deformação no plano médio da lâmina no sistema local de coordenadas:\n",
      "[[ 0.002]\n",
      " [ 0.002]\n",
      " [-0.003]]\n",
      "==============================\n",
      "Resultados lâmina 10:\n",
      "Tensão na lâmina no sistema global de coordenadas (MPa): \n",
      "[[ 3.687e+02]\n",
      " [-2.117e+01]\n",
      " [-3.260e-01]]\n",
      "Tensão na lâmina no sistema local de coordenadas (MPa):\n",
      "[[ 3.687e+02]\n",
      " [-2.117e+01]\n",
      " [-3.260e-01]]\n",
      "Deformação no plano médio da lâmina no sistema global de coordenadas:\n",
      "[[ 4.805e-03]\n",
      " [-5.696e-04]\n",
      " [-5.015e-05]]\n",
      "Deformação no plano médio da lâmina no sistema local de coordenadas:\n",
      "[[ 4.805e-03]\n",
      " [-5.696e-04]\n",
      " [-5.015e-05]]\n",
      "==============================\n",
      "Resultados lâmina 11:\n",
      "Tensão na lâmina no sistema global de coordenadas (MPa): \n",
      "[[205.989]\n",
      " [136.117]\n",
      " [  0.326]]\n",
      "Tensão na lâmina no sistema local de coordenadas (MPa):\n",
      "[[171.379]\n",
      " [170.727]\n",
      " [-34.936]]\n",
      "Deformação no plano médio da lâmina no sistema global de coordenadas:\n",
      "[[ 4.805e-03]\n",
      " [-5.696e-04]\n",
      " [-5.015e-05]]\n",
      "Deformação no plano médio da lâmina no sistema local de coordenadas:\n",
      "[[ 0.002]\n",
      " [ 0.002]\n",
      " [-0.003]]\n",
      "==============================\n",
      "Resultados lâmina 12:\n",
      "Tensão na lâmina no sistema global de coordenadas (MPa): \n",
      "[[ 3.687e+02]\n",
      " [-2.117e+01]\n",
      " [-3.260e-01]]\n",
      "Tensão na lâmina no sistema local de coordenadas (MPa):\n",
      "[[ 3.687e+02]\n",
      " [-2.117e+01]\n",
      " [-3.260e-01]]\n",
      "Deformação no plano médio da lâmina no sistema global de coordenadas:\n",
      "[[ 4.805e-03]\n",
      " [-5.696e-04]\n",
      " [-5.015e-05]]\n",
      "Deformação no plano médio da lâmina no sistema local de coordenadas:\n",
      "[[ 4.805e-03]\n",
      " [-5.696e-04]\n",
      " [-5.015e-05]]\n"
     ]
    }
   ],
   "source": [
    "# Tensões e deformações em cada lâmina (coordenadas z referenciadas no plano médio de cada lâmina)\n",
    "sigma_global = [[0 for _ in range(1)] for _ in range(n)]\n",
    "sigma_local = [[0 for _ in range(1)] for _ in range(n)]\n",
    "z = [[0 for _ in range(1)] for _ in range(n)]\n",
    "epsilon_global = [[0 for _ in range(1)] for _ in range(n)]\n",
    "epsilon_local = [[0 for _ in range(1)] for _ in range(n)]\n",
    "y = [[0 for _ in range(1)] for _ in range(n)]\n",
    "\n",
    "for i in range(n):\n",
    "    z[i] = 0.5*(((((n/2)-(i+1))/n)*-h) + (((n/2 - i)/n)*-h))\n",
    "    sigma_global[i] = (Q_dash[i]@(epsilon_0_global + (z[i]*K_global)))\n",
    "    print(\"==============================\")\n",
    "    print(\"Resultados lâmina %d:\" %(i+1))\n",
    "    print(\"Tensão na lâmina no sistema global de coordenadas (MPa): \")\n",
    "    print(sigma_global[i]*10**-6)\n",
    "    sigma_local[i] = T[i]@sigma_global[i]\n",
    "    print(\"Tensão na lâmina no sistema local de coordenadas (MPa):\")\n",
    "    print(sigma_local[i]*10**-6)\n",
    "    epsilon_global[i] = epsilon_0_global + z[i]*K_global\n",
    "    print(\"Deformação no plano médio da lâmina no sistema global de coordenadas:\")\n",
    "    print(epsilon_global[i])\n",
    "    epsilon_local[i] = T[i]@epsilon_global[i]\n",
    "    print(\"Deformação no plano médio da lâmina no sistema local de coordenadas:\")\n",
    "    print(epsilon_local[i])   "
   ]
  },
  {
   "cell_type": "markdown",
   "id": "d55ff7b0",
   "metadata": {},
   "source": [
    "## Análise de falhas: Máxima tração"
   ]
  },
  {
   "cell_type": "code",
   "execution_count": 11,
   "id": "72c55fb5",
   "metadata": {},
   "outputs": [
    {
     "name": "stdout",
     "output_type": "stream",
     "text": [
      "Critério de falha pela teoria da máxima tensão: 2.032 \n"
     ]
    }
   ],
   "source": [
    "CS_1 = [[0 for _ in range(1)] for _ in range(n)]\n",
    "CS_2 = [[0 for _ in range(1)] for _ in range(n)]\n",
    "CS_12 = [[0 for _ in range(1)] for _ in range(n)]\n",
    "\n",
    "for i in range(n):\n",
    "    if sigma_local[i][0,0] > 0:\n",
    "        CS_1[i] = XT/sigma_local[i][0,0]\n",
    "    else:\n",
    "        CS_1[i] = (XC)/sigma_local[i][0,0]\n",
    "\n",
    "    if sigma_local[i][1,0] > 0:\n",
    "        CS_2[i] = YT/sigma_local[i][1,0] \n",
    "    else:\n",
    "        CS_2[i] = (YC)/sigma_local[i][1,0] \n",
    "\n",
    "    if sigma_local[i][2,0] > 0:\n",
    "        CS_12[i] = S12/abs(sigma_local[i][2,0])\n",
    "    else:\n",
    "        CS_12[i] = S12/abs(sigma_local[i][2,0])\n",
    "   \n",
    "CS = min([min(CS_1),min(CS_2),min(CS_12)])\n",
    "\n",
    "# resultados:\n",
    "print(\"Critério de falha pela teoria da máxima tensão: %.3f \" %CS)"
   ]
  },
  {
   "cell_type": "markdown",
   "id": "b5159ecf",
   "metadata": {},
   "source": [
    "## Tsai-Hill"
   ]
  },
  {
   "cell_type": "code",
   "execution_count": 18,
   "id": "532907fb",
   "metadata": {},
   "outputs": [
    {
     "name": "stdout",
     "output_type": "stream",
     "text": [
      "Critério de falha pela teoria de Tsai-Hill: 1.896 \n"
     ]
    }
   ],
   "source": [
    "FS_TH = [[0 for _ in range(1)] for _ in range(n)]\n",
    "MS_TH = [[0 for _ in range(1)] for _ in range(n)]\n",
    "\n",
    "for i in range(n):\n",
    "    if sigma_local[i][0,0] > 0 and sigma_local[i][1,0] > 0:\n",
    "        FS_TH[i] = np.sqrt((sigma_local[i][0,0]/XT)**2 + (sigma_local[i][1,0]/YT)**2 - (sigma_local[i][1,0]*sigma_local[i][0,0]/(XT**2))+((sigma_local[i][2,0]/S12)**2))\n",
    "        MS_TH[i] = 1/FS_TH[i]\n",
    "    elif sigma_local[i][0,0] < 0 and sigma_local[i][1,0] > 0:\n",
    "        FS_TH[i] = np.sqrt((sigma_local[i][0,0]/XC)**2 + (sigma_local[i][1,0]/YT)**2 - (sigma_local[i][1,0]*sigma_local[i][0,0]/(XC**2))+((sigma_local[i][2,0]/S12)**2))\n",
    "        MS_TH[i] = 1/FS_TH[i] \n",
    "    elif sigma_local[i][0,0] < 0 and sigma_local[i][1,0] < 0:\n",
    "        FS_TH[i] = np.sqrt((sigma_local[i][0,0]/XC)**2 + (sigma_local[i][1,0]/YC)**2 - (sigma_local[i][1,0]*sigma_local[i][0,0]/(XC**2))+((sigma_local[i][2,0]/S12)**2))\n",
    "        MS_TH[i] = 1/FS_TH[i]\n",
    "    elif sigma_local[i][0,0] > 0 and sigma_local[i][1,0] < 0:\n",
    "        FS_TH[i] = np.sqrt((sigma_local[i][0,0]/XT)**2 + (sigma_local[i][1,0]/YC)**2 - (sigma_local[i][1,0]*sigma_local[i][0,0]/(XT**2))+((sigma_local[i][2,0]/S12)**2))\n",
    "        MS_TH[i] = 1/FS_TH[i]   \n",
    "   \n",
    "print(\"Critério de falha pela teoria de Tsai-Hill: %.3f \" %(min(MS_TH)))\n",
    "#print(FS_TH)"
   ]
  },
  {
   "cell_type": "markdown",
   "id": "73a9063d",
   "metadata": {},
   "source": [
    "## Tsai-Wu"
   ]
  },
  {
   "cell_type": "code",
   "execution_count": 13,
   "id": "1b95c67d",
   "metadata": {},
   "outputs": [
    {
     "name": "stdout",
     "output_type": "stream",
     "text": [
      "Critério de falha pela teoria de Tsai-Wu: 1.857 \n"
     ]
    }
   ],
   "source": [
    "import math\n",
    "F1 = 1/XT + 1/XC\n",
    "F2 = 1/YT + 1/YC\n",
    "F11 = -1/(XT*XC)\n",
    "F22 = -1/(YT*YC)\n",
    "F66 = (1/S12)**2\n",
    "F12 = -0.5*np.sqrt(F11*F22)\n",
    "\n",
    "A = [[0 for _ in range(1)] for _ in range(n)]\n",
    "B = [[0 for _ in range(1)] for _ in range(n)]\n",
    "Sf_pos = [[0 for _ in range(1)] for _ in range(n)]\n",
    "Sf_neg = [[0 for _ in range(1)] for _ in range(n)]\n",
    "Sf = [[0 for _ in range(1)] for _ in range(n)]\n",
    "\n",
    "for i in range(n):\n",
    "    A[i] = F11*sigma_local[i][0,0]**2 + F22*sigma_local[i][1,0]**2 + F66*sigma_local[i][2,0]**2 + 2*F12*sigma_local[i][0,0]*sigma_local[i][1,0]\n",
    "    B[i] = F1*sigma_local[i][0,0] + F2*sigma_local[i][1,0]\n",
    "    Sf_pos[i] = (-B[i] + np.sqrt(B[i]**2 + 4*A[i]))/(2*A[i])\n",
    "    Sf_neg[i] = abs((-B[i] - np.sqrt(B[i]**2 + 4*A[i]))/(2*A[i]))\n",
    "\n",
    "    Sf[i] = min(Sf_pos[i],Sf_neg[i])\n",
    "\n",
    "print(\"Critério de falha pela teoria de Tsai-Wu: %.3f \" %(min(Sf)))\n"
   ]
  },
  {
   "cell_type": "markdown",
   "id": "823b056e",
   "metadata": {},
   "source": [
    "## Curvas de falha"
   ]
  },
  {
   "cell_type": "code",
   "execution_count": 14,
   "id": "a8605729",
   "metadata": {},
   "outputs": [
    {
     "data": {
      "image/png": "[encoded data removed]",
      "text/plain": [
       "<Figure size 1080x576 with 1 Axes>"
      ]
     },
     "metadata": {
      "needs_background": "light"
     },
     "output_type": "display_data"
    }
   ],
   "source": [
    "# Função para construção dos gráficos\n",
    "def grafalha(XT,XC,YT,YC,S12,sigma_1_c,sigma_1_t,tau12,sigma_2):\n",
    "    for k in range(249):\n",
    "        sigma_2[k]     = (YT*np.sqrt(-4*XT**4*tau12**2+(S12**2*YT**2-4*S12**2*XT**2)*sigma_1_t[k]**2+4*S12**2*XT**4)-S12*YT**2*sigma_1_t[k])/(2*S12*XT**2)\n",
    "        sigma_2[k+250] = (YT*np.sqrt(-4*XC**4*tau12**2+(S12**2*YT**2-4*S12**2*XC**2)*sigma_1_c[k]**2+4*S12**2*XC**4)+S12*YT**2*sigma_1_c[k])/(2*S12*XC**2)\n",
    "        sigma_2[k+500] = (YC*np.sqrt(-4*XC**4*tau12**2+(S12**2*YC**2-4*S12**2*XC**2)*sigma_1_c[k]**2+4*S12**2*XC**4)-S12*YC**2*sigma_1_c[k])/(2*S12*XC**2)\n",
    "        sigma_2[k+750] = (YC*np.sqrt(-4*XT**4*tau12**2+(S12**2*YC**2-4*S12**2*XT**2)*sigma_1_t[k]**2+4*S12**2*XT**4)+S12*YC**2*sigma_1_t[k])/(2*S12*XT**2)\n",
    "    \n",
    "    x_inter1 = -(2*(YC*YT*(S12**2*XC*XT*YC**2 + S12**2*XC*XT*YT**2 + S12**2*XC**2*YC*YT + S12**2*XT**2*YC*YT + S12**2*XC*XT*YC*YT + 3*XC*XT*YC*YT*tau12**2 - S12**2*XC*XT**2*YC*YT**2*(1/(XC*XT*YC*YT))**(1/2) - S12**2*XC*XT**2*YC**2*YT*(1/(XC*XT*YC*YT))**(1/2) - S12**2*XC**2*XT*YC*YT**2*(1/(XC*XT*YC*YT))**(1/2) - S12**2*XC**2*XT*YC**2*YT*(1/(XC*XT*YC*YT))**(1/2)))**(1/2) - 2*S12*XC*YC*YT - 2*S12*XT*YC*YT + S12*XC*XT*YC*YT**2*(1/(XC*XT*YC*YT))**(1/2) + S12*XC*XT*YC**2*YT*(1/(XC*XT*YC*YT))**(1/2))/(3*S12*YC*YT)\n",
    "    x_inter2 = (2*(YC*YT*(S12**2*XC*XT*YC**2 + S12**2*XC*XT*YT**2 + S12**2*XC**2*YC*YT + S12**2*XT**2*YC*YT + S12**2*XC*XT*YC*YT + 3*XC*XT*YC*YT*tau12**2 - S12**2*XC*XT**2*YC*YT**2*(1/(XC*XT*YC*YT))**(1/2) - S12**2*XC*XT**2*YC**2*YT*(1/(XC*XT*YC*YT))**(1/2) - S12**2*XC**2*XT*YC*YT**2*(1/(XC*XT*YC*YT))**(1/2) - S12**2*XC**2*XT*YC**2*YT*(1/(XC*XT*YC*YT))**(1/2)))**(1/2) + 2*S12*XC*YC*YT + 2*S12*XT*YC*YT - S12*XC*XT*YC*YT**2*(1/(XC*XT*YC*YT))**(1/2) - S12*XC*XT*YC**2*YT*(1/(XC*XT*YC*YT))**(1/2))/(3*S12*YC*YT)\n",
    "    \n",
    "    sig1 = np.linspace(x_inter1,x_inter2, 1000)\n",
    "    sig2 = np.linspace(0, 0, 1000)\n",
    "    sig3 = np.linspace(0, 0, 1000)\n",
    "\n",
    "    for k in range(1000):\n",
    "        sig2[k] = (np.sqrt(4*XC**2*XT**2*YC*YT*tau12**2-3*S12**2*XC*XT*YC*YT*sig1[k]**2+(((4*S12**2*XC*XT**2+4*S12**2*XC**2*XT)*YC-2*S12**2*XC**2*XT**2*YC**2*np.sqrt(1/(XC*XT*YC*YT)))*YT-2*S12**2*XC**2*XT**2*YC*np.sqrt(1/(XC*XT*YC*YT))*YT**2)*sig1[k]+S12**2*XC**2*XT**2*YT**2-2*S12**2*XC**2*XT**2*YC*YT+S12**2*XC**2*XT**2*YC**2)-S12*XC*XT*YC*np.sqrt(1/(XC*XT*YC*YT))*YT*sig1[k]+S12*XC*XT*YT+S12*XC*XT*YC)/(2*S12*XC*XT)\n",
    "        sig3[k] = -(np.sqrt(4*XC**2*XT**2*YC*YT*tau12**2-3*S12**2*XC*XT*YC*YT*sig1[k]**2+(((4*S12**2*XC*XT**2+4*S12**2*XC**2*XT)*YC-2*S12**2*XC**2*XT**2*YC**2*np.sqrt(1/(XC*XT*YC*YT)))*YT-2*S12**2*XC**2*XT**2*YC*np.sqrt(1/(XC*XT*YC*YT))*YT**2)*sig1[k]+S12**2*XC**2*XT**2*YT**2-2*S12**2*XC**2*XT**2*YC*YT+S12**2*XC**2*XT**2*YC**2)+S12*XC*XT*YC*np.sqrt(1/(XC*XT*YC*YT))*YT*sig1[k]-S12*XC*XT*YT-S12*XC*XT*YC)/(2*S12*XC*XT)\n",
    "    \n",
    "    # Tamanho da figura\n",
    "    plt.figure(figsize=(15,8))\n",
    "\n",
    "    # Curva do critério da máxima tensão\n",
    "    plt.plot([XT,XC,XC,XT,XT],[YT,YT,YC,YC,YT],'g',label = 'Máxima tensão')\n",
    "\n",
    "    # Curvas de Tsai-hill\n",
    "    plt.plot(sigma_1_t,sigma_2[0:249],'r',label = 'Tsai-Hill') #Tsai-Hill 1º Quadrante\n",
    "    plt.plot(sigma_1_c,sigma_2[250:499],'r') #Tsai-Hill 2º Quadrante\n",
    "    plt.plot(sigma_1_c,sigma_2[500:749],'r') #Tsai-Hill 3º Quadrante\n",
    "    plt.plot(sigma_1_t,sigma_2[750:999],'r') #Tsai-Hill 4º Quadrante\n",
    "\n",
    "    # Curvas de Tsai-Wu\n",
    "    plt.plot(sig1,sig2,'b',label = 'Tsai-Wu') #Tsai-Wu Positivo\n",
    "    plt.plot(sig1,sig3,'b') #Tsai-Wu Negativo\n",
    "\n",
    "    for i in range(n):\n",
    "        plt.plot(sigma_local[i][0,0],sigma_local[i][1,0],'ro')\n",
    "   \n",
    "    plt.title('Análise de Falha')\n",
    "    plt.xlabel(\"${\\sigma_1}$ [Pa]\")\n",
    "    plt.ylabel(\"${\\sigma_2}$ [Pa]\")\n",
    "    plt.grid()\n",
    "    plt.legend()\n",
    "\n",
    "#Tensão genérica\n",
    "sigma_1_c = np.linspace(XC, 0, 249)\n",
    "sigma_1_t = np.linspace(0, XT, 249)\n",
    "tau12 = 0\n",
    "sigma_2 = np.linspace(0, 0, 1000)\n",
    "\n",
    "fig0 = grafalha(XT,XC,YT,YC,S12,sigma_1_c,sigma_1_t,tau12,sigma_2)\n"
   ]
  },
  {
   "cell_type": "markdown",
   "id": "7439b1f6",
   "metadata": {},
   "source": [
    "## Cálculo de deformações e tensões (gráficos ao longo da lâmina)"
   ]
  },
  {
   "cell_type": "code",
   "execution_count": 15,
   "id": "f4835b6a",
   "metadata": {},
   "outputs": [],
   "source": [
    "# Tensões e deformações em cada lâmina\n",
    "np.set_printoptions(precision=6)\n",
    "z = np.array(np.zeros([3,n]))\n",
    "epsilon_graph = np.array(np.zeros([3,n*3]))\n",
    "sigma_graph = np.array(np.zeros([3,n*3]))\n",
    "\n",
    "for i in range(n):\n",
    "    z[0,i] = (((n/2 - i)/n)*-h)\n",
    "    z[1,i] = 0.5*(((((n/2)-(i+1))/n)*-h) + (((n/2 - i)/n)*-h))\n",
    "    z[2,i] = ((((n/2)-(i+1))/n)*-h)\n",
    "\n",
    "    # cálculos das deformações (coordenadas globais)\n",
    "    mat_0 = (np.array(epsilon_0_global) + z[0,i]*np.array(K_global))\n",
    "    mat_1 = (np.array(epsilon_0_global) + z[1,i]*np.array(K_global))\n",
    "    mat_2 = (np.array(epsilon_0_global) + z[2,i]*np.array(K_global))\n",
    "    \n",
    "    # posicionamento dos dados (péssimo mas teve que ficar assim mesmo) \n",
    "    epsilon_graph[0,i] = mat_0[0,0]\n",
    "    epsilon_graph[1,i] = mat_0[1,0]\n",
    "    epsilon_graph[2,i] = mat_0[2,0]\n",
    "    epsilon_graph[0,i+n] = mat_1[0,0]\n",
    "    epsilon_graph[1,i+n] = mat_1[1,0]\n",
    "    epsilon_graph[2,i+n] = mat_1[2,0]\n",
    "    epsilon_graph[0,i+2*n] = mat_2[0,0]\n",
    "    epsilon_graph[1,i+2*n] = mat_2[1,0]\n",
    "    epsilon_graph[2,i+2*n] = mat_2[2,0]\n",
    "    \n",
    "    # cálculos das deformações (coordenadas globais)\n",
    "    tens_0 = (Q_dash[i]@(epsilon_0_global + (z[0,i]*K_global)))\n",
    "    tens_1 = (Q_dash[i]@(epsilon_0_global + (z[1,i]*K_global)))\n",
    "    tens_2 = (Q_dash[i]@(epsilon_0_global + (z[2,i]*K_global)))\n",
    "\n",
    "    # posicionamento dos dados (péssimo mas teve que ficar assim mesmo)\n",
    "    sigma_graph[0,i] = tens_0[0,0]\n",
    "    sigma_graph[1,i] = tens_0[1,0]\n",
    "    sigma_graph[2,i] = tens_0[2,0]\n",
    "    sigma_graph[0,i+n] = tens_1[0,0]\n",
    "    sigma_graph[1,i+n] = tens_1[1,0]\n",
    "    sigma_graph[2,i+n] = tens_1[2,0]\n",
    "    sigma_graph[0,i+2*n] = tens_2[0,0]\n",
    "    sigma_graph[1,i+2*n] = tens_2[1,0]\n",
    "    sigma_graph[2,i+2*n] = tens_2[2,0]\n"
   ]
  },
  {
   "cell_type": "markdown",
   "id": "3c1074d9",
   "metadata": {},
   "source": [
    "## Gráfico de distribução de deformações ao longo da lâmina"
   ]
  },
  {
   "cell_type": "code",
   "execution_count": 16,
   "id": "7148dbb2",
   "metadata": {},
   "outputs": [
    {
     "data": {
      "image/png": "[encoded data removed]",
      "text/plain": [
       "<Figure size 1008x432 with 3 Axes>"
      ]
     },
     "metadata": {
      "needs_background": "light"
     },
     "output_type": "display_data"
    }
   ],
   "source": [
    "fig, (ax,ax2,ax3) = plt.subplots(1,3, figsize=(14,6))\n",
    "  \n",
    "ax.plot([epsilon_graph[0,0:n],epsilon_graph[0,n:2*n],epsilon_graph[0,2*n:3*n]],[z[0,:]*1000,z[1,:]*1000,z[2,:]*1000],'r')\n",
    "ax2.plot([epsilon_graph[1,0:n],epsilon_graph[1,n:2*n],epsilon_graph[1,2*n:3*n]],[z[0,:]*1000,z[1,:]*1000,z[2,:]*1000],'g')\n",
    "ax3.plot([epsilon_graph[2,0:n],epsilon_graph[2,n:2*n],epsilon_graph[2,2*n:3*n]],[z[0,:]*1000,z[1,:]*1000,z[2,:]*1000],'b')\n",
    "\n",
    "ax.set(ylabel='Espessura (m)', title='$\\epsilon_x$')\n",
    "ax2.set(xlabel='Deformação', title='$\\epsilon_y$')\n",
    "ax3.set(title='$\\gamma_{xy}$')\n",
    "\n",
    "ax.grid()\n",
    "ax2.grid()\n",
    "ax3.grid()\n"
   ]
  },
  {
   "cell_type": "markdown",
   "id": "c62e0162",
   "metadata": {},
   "source": [
    "## Gráfico de distribução de tensões ao longo da lâmina"
   ]
  },
  {
   "cell_type": "code",
   "execution_count": 17,
   "id": "f969b4e7",
   "metadata": {},
   "outputs": [
    {
     "data": {
      "image/png": "[encoded data removed]",
      "text/plain": [
       "<Figure size 1008x432 with 3 Axes>"
      ]
     },
     "metadata": {
      "needs_background": "light"
     },
     "output_type": "display_data"
    }
   ],
   "source": [
    "fig, (ax,ax2,ax3) = plt.subplots(1,3, figsize=(14,6))\n",
    "  \n",
    "ax.plot([sigma_graph[0,0:n]*10**-6,sigma_graph[0,n:2*n]*10**-6,sigma_graph[0,2*n:3*n]*10**-6],[z[0,:]*1000,z[1,:]*1000,z[2,:]*1000],'r')\n",
    "ax2.plot([sigma_graph[1,0:n]*10**-6,sigma_graph[1,n:2*n]*10**-6,sigma_graph[1,2*n:3*n]*10**-6],[z[0,:]*1000,z[1,:]*1000,z[2,:]*1000],'g')\n",
    "ax3.plot([sigma_graph[2,0:n]*10**-6,sigma_graph[2,n:2*n]*10**-6,sigma_graph[2,2*n:3*n]*10**-6],[z[0,:]*1000,z[1,:]*1000,z[2,:]*1000],'b')\n",
    "\n",
    "ax.set(ylabel='Espessura (mm)', title='$\\sigma_x$')\n",
    "ax2.set(xlabel='Tensão (MPa)', title='$\\sigma_y$')\n",
    "ax3.set(title='$\\sigma_{xy}$')\n",
    "\n",
    "ax.grid()\n",
    "ax2.grid()\n",
    "ax3.grid()"
   ]
  }
 ],
 "metadata": {
  "kernelspec": {
   "display_name": "Python 3",
   "language": "python",
   "name": "python3"
  },
  "language_info": {
   "codemirror_mode": {
    "name": "ipython",
    "version": 3
   },
   "file_extension": ".py",
   "mimetype": "text/x-python",
   "name": "python",
   "nbconvert_exporter": "python",
   "pygments_lexer": "ipython3",
   "version": "3.8.8"
  },
  "vscode": {
   "interpreter": {
    "hash": "108e5f22bfb80c194968c4d8788f0cbe4cd0be3d6d353645b9b42c2d56b0e8e7"
   }
  }
 },
 "nbformat": 4,
 "nbformat_minor": 5
}
