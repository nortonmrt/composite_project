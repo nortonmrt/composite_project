{
 "cells": [
  {
   "cell_type": "markdown",
   "id": "e1be32f4",
   "metadata": {},
   "source": [
    "## Bibliotecas:"
   ]
  },
  {
   "cell_type": "code",
   "execution_count": 138,
   "id": "a84cfe7c",
   "metadata": {},
   "outputs": [],
   "source": [
    "# Bibliotecas básicas\n",
    "import numpy as np\n",
    "import math\n",
    "import matplotlib \n",
    "import pandas as pd\n",
    "\n",
    "# Bibliotecas gráficas\n",
    "import matplotlib.pyplot as plt\n",
    "# Configurações dos gráficos\n",
    "matplotlib.rc('font', family = 'Arial')\n",
    "matplotlib.rc('font', size = 14)\n",
    "\n",
    "# Para mostrar apenas 3 casas decimais\n",
    "np.set_printoptions(precision=3)\n"
   ]
  },
  {
   "cell_type": "markdown",
   "id": "05887205",
   "metadata": {},
   "source": [
    "## Constantes e dados de entrada:"
   ]
  },
  {
   "cell_type": "code",
   "execution_count": 139,
   "id": "ca774190",
   "metadata": {},
   "outputs": [],
   "source": [
    "# Número de lâminas\n",
    "#n = int(input('Número de lâminas:'))\n",
    "n = 17\n",
    "\n",
    "# Inicialização de vetores\n",
    "#direc_deg = [[0 for _ in range(1)] for _ in range(n)]\n",
    "#direc = [[0 for _ in range(1)] for _ in range(n)]\n",
    "direc = np.radians([90,0,0,0,90,90,90,0,1,91,2,3,5,19,38,37,35])\n",
    "\n",
    "# Orientação da lâmina: informar em graus, de cima para baixo\n",
    "#for i in range(n):\n",
    "#    direc[i] = np.radians(int(input('Direção da lâmina %d: ' %(i+1))))\n",
    "\n",
    "#Vetor de carregamentos \n",
    "# Nx = float(input('Força normal Nx (em N/mm):'))\n",
    "# Ny = float(input('Força normal Ny (em N/mm):'))\n",
    "# Nxy = float(input('Força cisalhante Nxy (em N/mm):'))\n",
    "# Mx = float(input('Momento Mx (em Nmm/mm):'))\n",
    "# My = float(input('Momento My (em Nmm/mm):'))\n",
    "# Mxy = float(input('Momento Mxy (Nmm/mm):'))\n",
    "\n",
    "# carreg = [[Nx*1000],[Ny*1000],[Nxy*1000],[Mx],[My],[Mxy]] # N/m\n",
    "\n",
    "carreg = [[2109*1000],[-1231*1000],[-2.72*1000],[-2274],[1166],[-75]] # N/m\n",
    "\n",
    "#Espessura de cada lâmina (esp): informar \n",
    "#esp = float(input('Espessura (em m):'))\n",
    "esp = 0.408E-3\n",
    "\n",
    "#Espessura do laminado\n",
    "h = n*esp #m\n",
    "\n",
    "# Dados do material: informar aqui:\n",
    "# E11 = float(input('Módulo de elasticidade na direção 1 (em Pa):'))\n",
    "# E22 = float(input('Módulo de elasticidade na direção 2 (em Pa):'))\n",
    "# nu12 = float(input('Coeficiente de Poisson:'))\n",
    "# G12 = float(input('Módulo de cisalhamento (em Pa):'))\n",
    "\n",
    "E11 = 138E9\n",
    "E22 = 8.96E9\n",
    "G12 = 7.1E9\n",
    "nu12 = 0.3\n",
    "\n",
    "#Relação entre coeficientes de Poisson\n",
    "nu21 = (E22*nu12)/E11\n",
    "\n",
    "#Relação entre coeficientes de Poisson\n",
    "nu21 = (E22*nu12)/E11\n",
    "\n",
    "# Resistências do material: informar em Pa:\n",
    "# XT = float(input('Limite de resistência a tração na direção 1 (em Pa):'))\n",
    "# XC = float(input('Limite de resistência a compressão na direção 1 (em Pa):'))\n",
    "# YT = float(input('Limite de resistência a tração na direção 2 (em Pa):'))\n",
    "# YC = float(input('Limite de resistência a compressão na direção 2 (em Pa):'))\n",
    "# S12 = float(input('Limite de resistência ao cisalhamento (em Pa):'))\n",
    "\n",
    "XT = 1447E6\n",
    "XC = -1447E6\n",
    "YT = 51.7E6\n",
    "YC = -206E6\n",
    "S12 = 93E6\n"
   ]
  },
  {
   "cell_type": "markdown",
   "id": "96bd7f24",
   "metadata": {},
   "source": [
    "## Matriz de rigidez reduzida transformada no sistema global de coordenadas:"
   ]
  },
  {
   "cell_type": "code",
   "execution_count": 140,
   "id": "cd908377",
   "metadata": {},
   "outputs": [],
   "source": [
    "Q11 = E11/(1-nu12*nu21)\n",
    "Q22 = E22/(1-nu12*nu21)\n",
    "Q66 = G12\n",
    "Q12 = (nu12*E22)/(1-nu12*nu21)\n",
    "Q21 = Q12\n",
    "\n",
    "Q = np.array([[Q11, Q12, 0],[Q21, Q22, 0], [0, 0, Q66]])\n",
    "\n",
    "cos = np.cos(direc)\n",
    "sin = np.sin(direc)\n",
    "\n",
    "# Inicialização dos vetores:\n",
    "T = [[0 for _ in range(1)] for _ in range(n)]\n",
    "T_inv = [[0 for _ in range(1)] for _ in range(n)]\n",
    "Q_dash = [[0 for _ in range(1)] for _ in range(n)]\n",
    "Reuter = [[1,0,0],[0,1,0],[0,0,2]] # Matriz de Reuter\n",
    "\n",
    "# Cálculo da matriz Q_dash para cada uma das lâminas \n",
    "for i in range(n):\n",
    "    T[i] = np.array([[cos[i]**2, sin[i]**2, 2*sin[i]*cos[i]],[sin[i]**2, cos[i]**2, -2*sin[i]*cos[i]],[-sin[i]*cos[i], sin[i]*cos[i], cos[i]**2-sin[i]**2]])\n",
    "    T_inv[i] = np.linalg.inv(T[i])\n",
    "    Q_dash[i] = T_inv[i]@Q@Reuter@T[i]@np.linalg.inv(Reuter)\n",
    "\n"
   ]
  },
  {
   "cell_type": "markdown",
   "id": "cd890dca",
   "metadata": {},
   "source": [
    "## Matriz \"ABBD\":"
   ]
  },
  {
   "cell_type": "code",
   "execution_count": 141,
   "id": "dc38468f",
   "metadata": {},
   "outputs": [
    {
     "name": "stdout",
     "output_type": "stream",
     "text": [
      "Matriz ABBD:\n",
      "[[ 5.982e+08  5.569e+07  7.078e+07  7.181e+04  1.008e+05  1.758e+05]\n",
      " [ 5.569e+07  3.533e+08  3.076e+07  1.008e+05 -2.734e+05  8.630e+04]\n",
      " [ 7.078e+07  3.076e+07  8.618e+07  1.758e+05  8.630e+04  1.008e+05]\n",
      " [ 7.181e+04  1.008e+05  1.758e+05  2.257e+03  3.579e+02  4.695e+02]\n",
      " [ 1.008e+05 -2.734e+05  8.630e+04  3.579e+02  1.288e+03  2.439e+02]\n",
      " [ 1.758e+05  8.630e+04  1.008e+05  4.695e+02  2.439e+02  4.801e+02]]\n"
     ]
    }
   ],
   "source": [
    "# Matriz A: rigidez à tração e compressão\n",
    "# Inicialização\n",
    "A_local = [[0 for _ in range(1)] for _ in range(n)]\n",
    "B_local = [[0 for _ in range(1)] for _ in range(n)]\n",
    "D_local = [[0 for _ in range(1)] for _ in range(n)]\n",
    "A_global = 0\n",
    "B_global = 0\n",
    "D_global = 0\n",
    "\n",
    "for i in range(n):\n",
    "    A_local[i] = Q_dash[i]*(((((n/2)-(i+1))/n)*-h) - (((n/2 - i)/n)*-h))\n",
    "    #A_local[i] = Q_dash[i]*(h/n) # retorna os mesmos resultados, significa que está ok\n",
    "    A_global = A_global + A_local[i]\n",
    "    B_local[i] = 0.5*Q_dash[i]*(((((n/2)-(i+1))/n)*-h)**2 - (((n/2 - i)/n)*-h)**2)\n",
    "    B_global = B_global + B_local[i]\n",
    "    D_local[i] = (1/3)*Q_dash[i]*(((((n/2)-(i+1))/n)*-h)**3 - (((n/2 - i)/n)*-h)**3)\n",
    "    D_global = D_global + D_local[i]\n",
    "\n",
    "# Combinando as matrizes em uma só   \n",
    "linha1 = np.vstack((A_global,B_global))\n",
    "linha2 = np.vstack((B_global,D_global))\n",
    "ABBD = np.hstack((linha1,linha2))\n",
    "print(\"Matriz ABBD:\")\n",
    "print(ABBD)"
   ]
  },
  {
   "cell_type": "markdown",
   "id": "433a05ec",
   "metadata": {},
   "source": [
    "## Deformações no plano médio e curvatura em relação ao sistema global:"
   ]
  },
  {
   "cell_type": "code",
   "execution_count": 142,
   "id": "7e172fb3",
   "metadata": {},
   "outputs": [
    {
     "name": "stdout",
     "output_type": "stream",
     "text": [
      "[[ 3.991e-03]\n",
      " [-3.780e-03]\n",
      " [-2.648e-05]\n",
      " [-9.706e-01]\n",
      " [ 6.525e-02]\n",
      " [-1.659e-02]]\n"
     ]
    }
   ],
   "source": [
    "# Inicialização do vetor\n",
    "def_curv = [[0],[0],[0],[0],[0],[0]]\n",
    "\n",
    "def_curv = np.linalg.inv(ABBD)@carreg\n",
    "\n",
    "epsilon_0_global = np.vstack((def_curv[0],def_curv[1],def_curv[2]))\n",
    "K_global = np.vstack((def_curv[3],def_curv[4],def_curv[5])) # em unidade de 1/m\n",
    "\n",
    "#print(\"Matriz deformação-curvatura:\")\n",
    "print(def_curv)\n"
   ]
  },
  {
   "cell_type": "markdown",
   "id": "884d7973",
   "metadata": {},
   "source": [
    "## Tensões e deformações em cada lâmina:"
   ]
  },
  {
   "cell_type": "code",
   "execution_count": 143,
   "id": "fc83c459",
   "metadata": {},
   "outputs": [
    {
     "name": "stdout",
     "output_type": "stream",
     "text": [
      "Resultados por lâmina: \n",
      "                               0           1           2           3   \\\n",
      "sigma_x local (MPa)   -492.920179  159.519685  214.417278  269.314870   \n",
      "sigma_y local (MPa)     -2.225527  -29.092119  -28.261351  -27.430583   \n",
      "sigma_xy local (MPa)     0.572351   -0.524307   -0.476264   -0.428220   \n",
      "epsilon_x local         -0.003567    0.001219    0.001615    0.002011   \n",
      "epsilon_y local          0.000823   -0.003594   -0.003620   -0.003647   \n",
      "gamma_xy local           0.000081   -0.000074   -0.000067   -0.000060   \n",
      "sigma_x global (MPa)    -2.225527  159.519685  214.417278  269.314870   \n",
      "sigma_y global (MPa)  -492.920179  -29.092119  -28.261351  -27.430583   \n",
      "sigma_xy global (MPa)   -0.572351   -0.524307   -0.476264   -0.428220   \n",
      "epsilon_x global         0.000823    0.001219    0.001615    0.002011   \n",
      "epsilon_y global        -0.003567   -0.003594   -0.003620   -0.003647   \n",
      "gamma_xy global         -0.000081   -0.000074   -0.000067   -0.000060   \n",
      "\n",
      "                               4           5           6           7   \\\n",
      "sigma_x local (MPa)   -503.419572 -506.044420 -508.669268  488.905242   \n",
      "sigma_y local (MPa)     11.762697   15.259753   18.756809  -24.107510   \n",
      "sigma_xy local (MPa)     0.380177    0.332133    0.284090   -0.236046   \n",
      "epsilon_x local         -0.003674   -0.003700   -0.003727    0.003595   \n",
      "epsilon_y local          0.002407    0.002803    0.003199   -0.003753   \n",
      "gamma_xy local           0.000054    0.000047    0.000040   -0.000033   \n",
      "sigma_x global (MPa)    11.762697   15.259753   18.756809  488.905242   \n",
      "sigma_y global (MPa)  -503.419572 -506.044420 -508.669268  -24.107510   \n",
      "sigma_xy global (MPa)   -0.380177   -0.332133   -0.284090   -0.236046   \n",
      "epsilon_x global         0.002407    0.002803    0.003199    0.003595   \n",
      "epsilon_y global        -0.003674   -0.003700   -0.003727   -0.003753   \n",
      "gamma_xy global         -0.000054   -0.000047   -0.000040   -0.000033   \n",
      "\n",
      "                               8           9           10          11  \\\n",
      "sigma_x local (MPa)    543.417777 -516.157306  652.108163  705.081830   \n",
      "sigma_y local (MPa)    -23.258894   29.230062  -21.546148  -20.626201   \n",
      "sigma_xy local (MPa)    -2.113494    2.170201   -4.359186   -6.752026   \n",
      "epsilon_x local          0.003988   -0.003803    0.004772    0.005154   \n",
      "epsilon_y local         -0.003777    0.004384   -0.003822   -0.003834   \n",
      "gamma_xy local          -0.000162    0.000163   -0.000313   -0.000479   \n",
      "sigma_x global (MPa)   543.318935   29.139683  651.591751  703.799857   \n",
      "sigma_y global (MPa)   -23.160051 -516.066927  -21.029735  -19.344228   \n",
      "sigma_xy global (MPa)    7.776158    7.347993   19.147307   31.213535   \n",
      "epsilon_x global         0.003991    0.004387    0.004783    0.005179   \n",
      "epsilon_y global        -0.003780   -0.003807   -0.003833   -0.003860   \n",
      "gamma_xy global         -0.000026   -0.000020   -0.000013   -0.000006   \n",
      "\n",
      "                                 12          13          14          15  \\\n",
      "sigma_x local (MPa)    7.536178e+02  676.000751  342.383443  400.530435   \n",
      "sigma_y local (MPa)   -1.950056e+01  -12.527454    6.311809    6.991961   \n",
      "sigma_xy local (MPa)  -1.166128e+01  -43.165336  -70.981599  -73.188271   \n",
      "epsilon_x local        5.503442e-03    0.004928    0.002474    0.002897   \n",
      "epsilon_y local       -3.814752e-03   -0.002870   -0.000047   -0.000100   \n",
      "gamma_xy local        -8.209280e-04   -0.003037   -0.004997   -0.005151   \n",
      "sigma_x global (MPa)   7.497700e+02  629.595698  283.872311  328.351231   \n",
      "sigma_y global (MPa)  -1.565282e+01   33.877600   64.822941   79.171164   \n",
      "sigma_xy global (MPa)  5.564117e+01  177.935396  145.872432  168.973309   \n",
      "epsilon_x global       5.575212e-03    0.005971    0.006367    0.006763   \n",
      "epsilon_y global      -3.886522e-03   -0.003913   -0.003940   -0.003966   \n",
      "gamma_xy global        5.874489e-07    0.000007    0.000014    0.000021   \n",
      "\n",
      "                               16  \n",
      "sigma_x local (MPa)    485.377801  \n",
      "sigma_y local (MPa)      6.434493  \n",
      "sigma_xy local (MPa)   -74.338538  \n",
      "epsilon_x local          0.003516  \n",
      "epsilon_y local         -0.000350  \n",
      "gamma_xy local          -0.005230  \n",
      "sigma_x global (MPa)   397.665652  \n",
      "sigma_y global (MPa)    94.146642  \n",
      "sigma_xy global (MPa)  199.604469  \n",
      "epsilon_x global         0.007159  \n",
      "epsilon_y global        -0.003993  \n",
      "gamma_xy global          0.000028  \n"
     ]
    }
   ],
   "source": [
    "# Tensões e deformações em cada lâmina (coordenadas z referenciadas no plano médio de cada lâmina)\n",
    "sigma_global = [[0 for _ in range(1)] for _ in range(n)]\n",
    "sigma_local = [[0 for _ in range(1)] for _ in range(n)]\n",
    "z = [[0 for _ in range(1)] for _ in range(n)]\n",
    "epsilon_global = [[0 for _ in range(1)] for _ in range(n)]\n",
    "epsilon_local = [[0 for _ in range(1)] for _ in range(n)]\n",
    "y = [[0 for _ in range(1)] for _ in range(n)]\n",
    "\n",
    "for i in range(n):\n",
    "    z[i] = 0.5*(((((n/2)-(i+1))/n)*-h) + (((n/2 - i)/n)*-h))\n",
    "    sigma_global[i] = (Q_dash[i]@(epsilon_0_global - (z[i]*K_global)))\n",
    "    sigma_local[i] = T[i]@sigma_global[i]\n",
    "    epsilon_global[i] = epsilon_0_global - z[i]*K_global\n",
    "    epsilon_local[i] = T[i]@epsilon_global[i]\n",
    "\n",
    "sigma_local_data = sigma_local[0]\n",
    "epsilon_local_data = epsilon_local[0]\n",
    "sigma_global_data = sigma_global[0]\n",
    "epsilon_global_data = epsilon_global[0]\n",
    "\n",
    "for i in range(n):\n",
    "    if i < (n-1):\n",
    "        sigma_local_data = np.hstack((sigma_local_data,sigma_local[i+1]))\n",
    "        epsilon_local_data = np.hstack((epsilon_local_data,epsilon_local[i+1]))\n",
    "        sigma_global_data = np.hstack((sigma_global_data,sigma_global[i+1]))\n",
    "        epsilon_global_data = np.hstack((epsilon_global_data,epsilon_global[i+1]))\n",
    "\n",
    "sigma_global_data = sigma_global_data*10**-6\n",
    "sigma_local_data = sigma_local_data*10**-6\n",
    "\n",
    "results_df = pd.DataFrame(\n",
    "    {\n",
    "        \"sigma_x local (MPa)\": sigma_local_data[0,:],\n",
    "        \"sigma_y local (MPa)\": sigma_local_data[1,:],\n",
    "        \"sigma_xy local (MPa)\": sigma_local_data[2,:],\n",
    "        \"epsilon_x local\": epsilon_local_data[0,:],\n",
    "        \"epsilon_y local\": epsilon_local_data[1,:],\n",
    "        \"gamma_xy local\": epsilon_local_data[2,:],\n",
    "        \"sigma_x global (MPa)\": sigma_global_data[0,:],\n",
    "        \"sigma_y global (MPa)\": sigma_global_data[1,:],\n",
    "        \"sigma_xy global (MPa)\": sigma_global_data[2,:],\n",
    "        \"epsilon_x global\": epsilon_global_data[0,:],\n",
    "        \"epsilon_y global\": epsilon_global_data[1,:],\n",
    "        \"gamma_xy global\": epsilon_global_data[2,:]\n",
    "    }\n",
    ").T\n",
    "\n",
    "print(\"Resultados por lâmina: \")\n",
    "print(results_df)\n",
    "\n",
    "# exportar dados para o Excel (opcional)\n",
    "results_df.to_excel(excel_writer = \"C:/Users/Cliente Especial/Desktop/stress_strain.xlsx\")\n"
   ]
  },
  {
   "cell_type": "markdown",
   "id": "d55ff7b0",
   "metadata": {},
   "source": [
    "## Análise de falhas: Máxima tensão"
   ]
  },
  {
   "cell_type": "code",
   "execution_count": 144,
   "id": "72c55fb5",
   "metadata": {},
   "outputs": [
    {
     "name": "stdout",
     "output_type": "stream",
     "text": [
      "Critério de falha pela teoria da máxima tensão: 1.251 \n"
     ]
    }
   ],
   "source": [
    "CS_1 = [[0 for _ in range(1)] for _ in range(n)]\n",
    "CS_2 = [[0 for _ in range(1)] for _ in range(n)]\n",
    "CS_12 = [[0 for _ in range(1)] for _ in range(n)]\n",
    "\n",
    "for i in range(n):\n",
    "    if sigma_local[i][0,0] > 0:\n",
    "        CS_1[i] = XT/sigma_local[i][0,0]\n",
    "    else:\n",
    "        CS_1[i] = (XC)/sigma_local[i][0,0]\n",
    "\n",
    "    if sigma_local[i][1,0] > 0:\n",
    "        CS_2[i] = YT/sigma_local[i][1,0] \n",
    "    else:\n",
    "        CS_2[i] = (YC)/sigma_local[i][1,0] \n",
    "\n",
    "    if sigma_local[i][2,0] > 0:\n",
    "        CS_12[i] = S12/abs(sigma_local[i][2,0])\n",
    "    else:\n",
    "        CS_12[i] = S12/abs(sigma_local[i][2,0])\n",
    "\n",
    "CS = min(min(CS_1),min(CS_2),min(CS_12))   \n",
    "\n",
    "# resultados:\n",
    "print(\"Critério de falha pela teoria da máxima tensão: %.3f \" %CS)"
   ]
  },
  {
   "cell_type": "markdown",
   "id": "b5159ecf",
   "metadata": {},
   "source": [
    "## Tsai-Hill"
   ]
  },
  {
   "cell_type": "code",
   "execution_count": 145,
   "id": "532907fb",
   "metadata": {},
   "outputs": [
    {
     "name": "stdout",
     "output_type": "stream",
     "text": [
      "Critério de falha pela teoria de Tsai-Hill: 1.143 \n"
     ]
    }
   ],
   "source": [
    "FS_TH = [[0 for _ in range(1)] for _ in range(n)]\n",
    "MS_TH = [[0 for _ in range(1)] for _ in range(n)]\n",
    "\n",
    "for i in range(n):\n",
    "    if sigma_local[i][0,0] > 0 and sigma_local[i][1,0] > 0:\n",
    "        FS_TH[i] = np.sqrt((sigma_local[i][0,0]/XT)**2 + (sigma_local[i][1,0]/YT)**2 - (sigma_local[i][1,0]*sigma_local[i][0,0]/(XT**2))+((sigma_local[i][2,0]/S12)**2))\n",
    "        MS_TH[i] = 1/FS_TH[i]\n",
    "    elif sigma_local[i][0,0] < 0 and sigma_local[i][1,0] > 0:\n",
    "        FS_TH[i] = np.sqrt((sigma_local[i][0,0]/XC)**2 + (sigma_local[i][1,0]/YT)**2 - (sigma_local[i][1,0]*sigma_local[i][0,0]/(XC**2))+((sigma_local[i][2,0]/S12)**2))\n",
    "        MS_TH[i] = 1/FS_TH[i] \n",
    "    elif sigma_local[i][0,0] < 0 and sigma_local[i][1,0] < 0:\n",
    "        FS_TH[i] = np.sqrt((sigma_local[i][0,0]/XC)**2 + (sigma_local[i][1,0]/YC)**2 - (sigma_local[i][1,0]*sigma_local[i][0,0]/(XC**2))+((sigma_local[i][2,0]/S12)**2))\n",
    "        MS_TH[i] = 1/FS_TH[i]\n",
    "    elif sigma_local[i][0,0] > 0 and sigma_local[i][1,0] < 0:\n",
    "        FS_TH[i] = np.sqrt((sigma_local[i][0,0]/XT)**2 + (sigma_local[i][1,0]/YC)**2 - (sigma_local[i][1,0]*sigma_local[i][0,0]/(XT**2))+((sigma_local[i][2,0]/S12)**2))\n",
    "        MS_TH[i] = 1/FS_TH[i]   \n",
    "   \n",
    "print(\"Critério de falha pela teoria de Tsai-Hill: %.3f \" %(min(MS_TH)))\n",
    "#print(FS_TH)"
   ]
  },
  {
   "cell_type": "markdown",
   "id": "73a9063d",
   "metadata": {},
   "source": [
    "## Tsai-Wu"
   ]
  },
  {
   "cell_type": "code",
   "execution_count": 146,
   "id": "1b95c67d",
   "metadata": {},
   "outputs": [
    {
     "name": "stdout",
     "output_type": "stream",
     "text": [
      "Critério de falha pela teoria de Tsai-Wu: 1.105 \n"
     ]
    }
   ],
   "source": [
    "import math\n",
    "F1 = 1/XT + 1/XC\n",
    "F2 = 1/YT + 1/YC\n",
    "F11 = -1/(XT*XC)\n",
    "F22 = -1/(YT*YC)\n",
    "F66 = (1/S12)**2\n",
    "F12 = -0.5*np.sqrt(F11*F22)\n",
    "\n",
    "A = [[0 for _ in range(1)] for _ in range(n)]\n",
    "B = [[0 for _ in range(1)] for _ in range(n)]\n",
    "Sf_pos = [[0 for _ in range(1)] for _ in range(n)]\n",
    "Sf_neg = [[0 for _ in range(1)] for _ in range(n)]\n",
    "Sf = [[0 for _ in range(1)] for _ in range(n)]\n",
    "\n",
    "for i in range(n):\n",
    "    A[i] = F11*sigma_local[i][0,0]**2 + F22*sigma_local[i][1,0]**2 + F66*sigma_local[i][2,0]**2 + 2*F12*sigma_local[i][0,0]*sigma_local[i][1,0]\n",
    "    B[i] = F1*sigma_local[i][0,0] + F2*sigma_local[i][1,0]\n",
    "    Sf_pos[i] = (-B[i] + np.sqrt(B[i]**2 + 4*A[i]))/(2*A[i])\n",
    "    Sf_neg[i] = abs((-B[i] - np.sqrt(B[i]**2 + 4*A[i]))/(2*A[i]))\n",
    "\n",
    "    Sf[i] = min(Sf_pos[i],Sf_neg[i])\n",
    "\n",
    "print(\"Critério de falha pela teoria de Tsai-Wu: %.3f \" %(min(Sf)))\n"
   ]
  },
  {
   "cell_type": "markdown",
   "id": "823b056e",
   "metadata": {},
   "source": [
    "## Curvas de falha"
   ]
  },
  {
   "cell_type": "code",
   "execution_count": 147,
   "id": "a8605729",
   "metadata": {},
   "outputs": [
    {
     "data": {
      "image/png": "[encoded data removed]",
      "text/plain": [
       "<Figure size 1080x576 with 1 Axes>"
      ]
     },
     "metadata": {
      "needs_background": "light"
     },
     "output_type": "display_data"
    }
   ],
   "source": [
    "# Função para construção dos gráficos\n",
    "def grafalha(XT,XC,YT,YC,S12,sigma_1_c,sigma_1_t,tau12,sigma_2):\n",
    "    for k in range(249):\n",
    "        sigma_2[k]     = (YT*np.sqrt(-4*XT**4*tau12**2+(S12**2*YT**2-4*S12**2*XT**2)*sigma_1_t[k]**2+4*S12**2*XT**4)-S12*YT**2*sigma_1_t[k])/(2*S12*XT**2)\n",
    "        sigma_2[k+250] = (YT*np.sqrt(-4*XC**4*tau12**2+(S12**2*YT**2-4*S12**2*XC**2)*sigma_1_c[k]**2+4*S12**2*XC**4)+S12*YT**2*sigma_1_c[k])/(2*S12*XC**2)\n",
    "        sigma_2[k+500] = (YC*np.sqrt(-4*XC**4*tau12**2+(S12**2*YC**2-4*S12**2*XC**2)*sigma_1_c[k]**2+4*S12**2*XC**4)-S12*YC**2*sigma_1_c[k])/(2*S12*XC**2)\n",
    "        sigma_2[k+750] = (YC*np.sqrt(-4*XT**4*tau12**2+(S12**2*YC**2-4*S12**2*XT**2)*sigma_1_t[k]**2+4*S12**2*XT**4)+S12*YC**2*sigma_1_t[k])/(2*S12*XT**2)\n",
    "    \n",
    "    x_inter1 = -(2*(YC*YT*(S12**2*XC*XT*YC**2 + S12**2*XC*XT*YT**2 + S12**2*XC**2*YC*YT + S12**2*XT**2*YC*YT + S12**2*XC*XT*YC*YT + 3*XC*XT*YC*YT*tau12**2 - S12**2*XC*XT**2*YC*YT**2*(1/(XC*XT*YC*YT))**(1/2) - S12**2*XC*XT**2*YC**2*YT*(1/(XC*XT*YC*YT))**(1/2) - S12**2*XC**2*XT*YC*YT**2*(1/(XC*XT*YC*YT))**(1/2) - S12**2*XC**2*XT*YC**2*YT*(1/(XC*XT*YC*YT))**(1/2)))**(1/2) - 2*S12*XC*YC*YT - 2*S12*XT*YC*YT + S12*XC*XT*YC*YT**2*(1/(XC*XT*YC*YT))**(1/2) + S12*XC*XT*YC**2*YT*(1/(XC*XT*YC*YT))**(1/2))/(3*S12*YC*YT)\n",
    "    x_inter2 = (2*(YC*YT*(S12**2*XC*XT*YC**2 + S12**2*XC*XT*YT**2 + S12**2*XC**2*YC*YT + S12**2*XT**2*YC*YT + S12**2*XC*XT*YC*YT + 3*XC*XT*YC*YT*tau12**2 - S12**2*XC*XT**2*YC*YT**2*(1/(XC*XT*YC*YT))**(1/2) - S12**2*XC*XT**2*YC**2*YT*(1/(XC*XT*YC*YT))**(1/2) - S12**2*XC**2*XT*YC*YT**2*(1/(XC*XT*YC*YT))**(1/2) - S12**2*XC**2*XT*YC**2*YT*(1/(XC*XT*YC*YT))**(1/2)))**(1/2) + 2*S12*XC*YC*YT + 2*S12*XT*YC*YT - S12*XC*XT*YC*YT**2*(1/(XC*XT*YC*YT))**(1/2) - S12*XC*XT*YC**2*YT*(1/(XC*XT*YC*YT))**(1/2))/(3*S12*YC*YT)\n",
    "    \n",
    "    sig1 = np.linspace(x_inter1,x_inter2, 1000)\n",
    "    sig2 = np.linspace(0, 0, 1000)\n",
    "    sig3 = np.linspace(0, 0, 1000)\n",
    "\n",
    "    for k in range(1000):\n",
    "        sig2[k] = (np.sqrt(4*XC**2*XT**2*YC*YT*tau12**2-3*S12**2*XC*XT*YC*YT*sig1[k]**2+(((4*S12**2*XC*XT**2+4*S12**2*XC**2*XT)*YC-2*S12**2*XC**2*XT**2*YC**2*np.sqrt(1/(XC*XT*YC*YT)))*YT-2*S12**2*XC**2*XT**2*YC*np.sqrt(1/(XC*XT*YC*YT))*YT**2)*sig1[k]+S12**2*XC**2*XT**2*YT**2-2*S12**2*XC**2*XT**2*YC*YT+S12**2*XC**2*XT**2*YC**2)-S12*XC*XT*YC*np.sqrt(1/(XC*XT*YC*YT))*YT*sig1[k]+S12*XC*XT*YT+S12*XC*XT*YC)/(2*S12*XC*XT)\n",
    "        sig3[k] = -(np.sqrt(4*XC**2*XT**2*YC*YT*tau12**2-3*S12**2*XC*XT*YC*YT*sig1[k]**2+(((4*S12**2*XC*XT**2+4*S12**2*XC**2*XT)*YC-2*S12**2*XC**2*XT**2*YC**2*np.sqrt(1/(XC*XT*YC*YT)))*YT-2*S12**2*XC**2*XT**2*YC*np.sqrt(1/(XC*XT*YC*YT))*YT**2)*sig1[k]+S12**2*XC**2*XT**2*YT**2-2*S12**2*XC**2*XT**2*YC*YT+S12**2*XC**2*XT**2*YC**2)+S12*XC*XT*YC*np.sqrt(1/(XC*XT*YC*YT))*YT*sig1[k]-S12*XC*XT*YT-S12*XC*XT*YC)/(2*S12*XC*XT)\n",
    "    \n",
    "    # Tamanho da figura\n",
    "    plt.figure(figsize=(15,8))\n",
    "\n",
    "    # Curva do critério da máxima tensão\n",
    "    plt.plot([XT,XC,XC,XT,XT],[YT,YT,YC,YC,YT],'g',label = 'Máxima tensão')\n",
    "\n",
    "    # Curvas de Tsai-hill\n",
    "    plt.plot(sigma_1_t,sigma_2[0:249],'r',label = 'Tsai-Hill') #Tsai-Hill 1º Quadrante\n",
    "    plt.plot(sigma_1_c,sigma_2[250:499],'r') #Tsai-Hill 2º Quadrante\n",
    "    plt.plot(sigma_1_c,sigma_2[500:749],'r') #Tsai-Hill 3º Quadrante\n",
    "    plt.plot(sigma_1_t,sigma_2[750:999],'r') #Tsai-Hill 4º Quadrante\n",
    "\n",
    "    # Curvas de Tsai-Wu\n",
    "    plt.plot(sig1,sig2,'b',label = 'Tsai-Wu') #Tsai-Wu Positivo\n",
    "    plt.plot(sig1,sig3,'b') #Tsai-Wu Negativo\n",
    "\n",
    "    for i in range(n):\n",
    "        plt.plot(sigma_local[i][0,0],sigma_local[i][1,0],'ro')\n",
    "   \n",
    "    plt.title('Análise de Falha')\n",
    "    plt.xlabel(\"${\\sigma_1}$ [Pa]\")\n",
    "    plt.ylabel(\"${\\sigma_2}$ [Pa]\")\n",
    "    plt.grid()\n",
    "    plt.legend()\n",
    "\n",
    "#Tensão genérica\n",
    "sigma_1_c = np.linspace(XC, 0, 249)\n",
    "sigma_1_t = np.linspace(0, XT, 249)\n",
    "tau12 = 0\n",
    "sigma_2 = np.linspace(0, 0, 1000)\n",
    "\n",
    "fig0 = grafalha(XT,XC,YT,YC,S12,sigma_1_c,sigma_1_t,tau12,sigma_2)\n"
   ]
  },
  {
   "cell_type": "markdown",
   "id": "7439b1f6",
   "metadata": {},
   "source": [
    "## Cálculo de deformações e tensões (gráficos ao longo da lâmina)"
   ]
  },
  {
   "cell_type": "code",
   "execution_count": 148,
   "id": "f4835b6a",
   "metadata": {},
   "outputs": [],
   "source": [
    "# Tensões e deformações em cada lâmina\n",
    "np.set_printoptions(precision=6)\n",
    "z = np.array(np.zeros([3,n]))\n",
    "epsilon_graph = np.array(np.zeros([3,n*3]))\n",
    "sigma_graph = np.array(np.zeros([3,n*3]))\n",
    "\n",
    "for i in range(n):\n",
    "    z[0,i] = (((n/2 - i)/n)*-h)\n",
    "    z[1,i] = 0.5*(((((n/2)-(i+1))/n)*-h) + (((n/2 - i)/n)*-h))\n",
    "    z[2,i] = ((((n/2)-(i+1))/n)*-h)\n",
    "\n",
    "    # cálculos das deformações (coordenadas globais)\n",
    "    mat_0 = (np.array(epsilon_0_global) + z[0,i]*np.array(K_global))\n",
    "    mat_1 = (np.array(epsilon_0_global) + z[1,i]*np.array(K_global))\n",
    "    mat_2 = (np.array(epsilon_0_global) + z[2,i]*np.array(K_global))\n",
    "    \n",
    "    # posicionamento dos dados (péssimo mas teve que ficar assim mesmo) \n",
    "    epsilon_graph[0,i] = mat_0[0,0]\n",
    "    epsilon_graph[1,i] = mat_0[1,0]\n",
    "    epsilon_graph[2,i] = mat_0[2,0]\n",
    "    epsilon_graph[0,i+n] = mat_1[0,0]\n",
    "    epsilon_graph[1,i+n] = mat_1[1,0]\n",
    "    epsilon_graph[2,i+n] = mat_1[2,0]\n",
    "    epsilon_graph[0,i+2*n] = mat_2[0,0]\n",
    "    epsilon_graph[1,i+2*n] = mat_2[1,0]\n",
    "    epsilon_graph[2,i+2*n] = mat_2[2,0]\n",
    "    \n",
    "    # cálculos das deformações (coordenadas globais)\n",
    "    tens_0 = (Q_dash[i]@(epsilon_0_global + (z[0,i]*K_global)))\n",
    "    tens_1 = (Q_dash[i]@(epsilon_0_global + (z[1,i]*K_global)))\n",
    "    tens_2 = (Q_dash[i]@(epsilon_0_global + (z[2,i]*K_global)))\n",
    "\n",
    "    # posicionamento dos dados (péssimo mas teve que ficar assim mesmo)\n",
    "    sigma_graph[0,i] = tens_0[0,0]*10**-6\n",
    "    sigma_graph[1,i] = tens_0[1,0]*10**-6\n",
    "    sigma_graph[2,i] = tens_0[2,0]*10**-6\n",
    "    sigma_graph[0,i+n] = tens_1[0,0]*10**-6\n",
    "    sigma_graph[1,i+n] = tens_1[1,0]*10**-6\n",
    "    sigma_graph[2,i+n] = tens_1[2,0]*10**-6\n",
    "    sigma_graph[0,i+2*n] = tens_2[0,0]*10**-6\n",
    "    sigma_graph[1,i+2*n] = tens_2[1,0]*10**-6\n",
    "    sigma_graph[2,i+2*n] = tens_2[2,0]*10**-6\n"
   ]
  },
  {
   "cell_type": "markdown",
   "id": "3c1074d9",
   "metadata": {},
   "source": [
    "## Gráfico de distribução de deformações ao longo da lâmina"
   ]
  },
  {
   "cell_type": "code",
   "execution_count": 149,
   "id": "7148dbb2",
   "metadata": {},
   "outputs": [
    {
     "data": {
      "image/png": "[encoded data removed]",
      "text/plain": [
       "<Figure size 1008x432 with 3 Axes>"
      ]
     },
     "metadata": {
      "needs_background": "light"
     },
     "output_type": "display_data"
    }
   ],
   "source": [
    "fig, (ax,ax2,ax3) = plt.subplots(1,3, figsize=(14,6))\n",
    "\n",
    "z = z*1000\n",
    "\n",
    "# Construção dos gráficos de tensão\n",
    "ax.plot([epsilon_graph[0,0:n],epsilon_graph[0,n:2*n],epsilon_graph[0,2*n:3*n]],[z[0,:],z[1,:],z[2,:]],'r')\n",
    "ax2.plot([epsilon_graph[1,0:n],epsilon_graph[1,n:2*n],epsilon_graph[1,2*n:3*n]],[z[0,:],z[1,:],z[2,:]],'g')\n",
    "ax3.plot([epsilon_graph[2,0:n],epsilon_graph[2,n:2*n],epsilon_graph[2,2*n:3*n]],[z[0,:],z[1,:],z[2,:]],'b')\n",
    "\n",
    "# Construção das linhas de cada lâmina\n",
    "for i in range(n):\n",
    "    ax.plot([0,epsilon_graph[0,i]],[z[0,i],z[0,i]],'r')\n",
    "    ax.plot([0,epsilon_graph[0,i+2*n]],[z[2,i],z[2,i]],'r')\n",
    "    ax.plot([0,0],[z[0,0],z[2,n-1]],'k')\n",
    "    \n",
    "    ax2.plot([0,epsilon_graph[1,i]],[z[0,i],z[0,i]],'g')\n",
    "    ax2.plot([0,epsilon_graph[1,i+2*n]],[z[2,i],z[2,i]],'g')\n",
    "    ax2.plot([0,0],[z[0,0],z[2,n-1]],'k')\n",
    "\n",
    "    ax3.plot([0,epsilon_graph[2,i]],[z[0,i],z[0,i]],'b')\n",
    "    ax3.plot([0,epsilon_graph[2,i+2*n]],[z[2,i],z[2,i]],'b')\n",
    "    ax3.plot([0,0],[z[0,0],z[2,n-1]],'k')\n",
    "\n",
    "ax.set(ylabel='Espessura (m)', title='$\\epsilon_x$')\n",
    "ax2.set(xlabel='Deformação', title='$\\epsilon_y$')\n",
    "ax3.set(title='$\\gamma_{xy}$')\n",
    "\n",
    "ax.grid()\n",
    "ax2.grid()\n",
    "ax3.grid()\n",
    "\n"
   ]
  },
  {
   "cell_type": "markdown",
   "id": "c62e0162",
   "metadata": {},
   "source": [
    "## Gráfico de distribução de tensões ao longo da lâmina"
   ]
  },
  {
   "cell_type": "code",
   "execution_count": 150,
   "id": "f969b4e7",
   "metadata": {},
   "outputs": [
    {
     "data": {
      "image/png": "[encoded data removed]",
      "text/plain": [
       "<Figure size 1008x432 with 3 Axes>"
      ]
     },
     "metadata": {
      "needs_background": "light"
     },
     "output_type": "display_data"
    }
   ],
   "source": [
    "fig, (ax,ax2,ax3) = plt.subplots(1,3, figsize=(14,6))\n",
    "\n",
    "ax.plot([sigma_graph[0,0:n],sigma_graph[0,n:2*n],sigma_graph[0,2*n:3*n]],[z[0,:],z[1,:],z[2,:]],'r')\n",
    "ax2.plot([sigma_graph[1,0:n],sigma_graph[1,n:2*n],sigma_graph[1,2*n:3*n]],[z[0,:],z[1,:],z[2,:]],'g')\n",
    "ax3.plot([sigma_graph[2,0:n],sigma_graph[2,n:2*n],sigma_graph[2,2*n:3*n]],[z[0,:],z[1,:],z[2,:]],'b')\n",
    "\n",
    "for i in range(n):\n",
    "    ax.plot([0,sigma_graph[0,i]],[z[0,i],z[0,i]],'r')\n",
    "    ax.plot([0,sigma_graph[0,i+2*n]],[z[2,i],z[2,i]],'r')\n",
    "    ax.plot([0,0],[z[0,0],z[2,n-1]],'k')\n",
    "\n",
    "    ax2.plot([0,sigma_graph[1,i]],[z[0,i],z[0,i]],'g')\n",
    "    ax2.plot([0,sigma_graph[1,i+2*n]],[z[2,i],z[2,i]],'g')\n",
    "    ax2.plot([0,0],[z[0,0],z[2,n-1]],'k')\n",
    "\n",
    "    ax3.plot([0,sigma_graph[2,i]],[z[0,i],z[0,i]],'b')\n",
    "    ax3.plot([0,sigma_graph[2,i+2*n]],[z[2,i],z[2,i]],'b')\n",
    "    ax3.plot([0,0],[z[0,0],z[2,n-1]],'k')\n",
    "        \n",
    "ax.set(ylabel='Espessura (mm)', title='$\\sigma_x$')\n",
    "ax2.set(xlabel='Tensão (MPa)', title='$\\sigma_y$')\n",
    "ax3.set(title='$\\sigma_{xy}$')\n",
    "\n",
    "ax.grid()\n",
    "ax2.grid()\n",
    "ax3.grid()\n"
   ]
  }
 ],
 "metadata": {
  "kernelspec": {
   "display_name": "Python 3",
   "language": "python",
   "name": "python3"
  },
  "language_info": {
   "codemirror_mode": {
    "name": "ipython",
    "version": 3
   },
   "file_extension": ".py",
   "mimetype": "text/x-python",
   "name": "python",
   "nbconvert_exporter": "python",
   "pygments_lexer": "ipython3",
   "version": "3.8.8"
  },
  "vscode": {
   "interpreter": {
    "hash": "108e5f22bfb80c194968c4d8788f0cbe4cd0be3d6d353645b9b42c2d56b0e8e7"
   }
  }
 },
 "nbformat": 4,
 "nbformat_minor": 5
}
