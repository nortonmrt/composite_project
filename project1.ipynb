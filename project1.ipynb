{
 "cells": [
  {
   "cell_type": "markdown",
   "id": "063f90cc",
   "metadata": {},
   "source": [
    "Autor: Norton Martin Reichert Trennepohl "
   ]
  },
  {
   "cell_type": "markdown",
   "id": "98b3c35a",
   "metadata": {},
   "source": [
    "Nota: o algoritmo aqui mostrado funciona independentemente do número de lâminas ser par ou ímpar."
   ]
  },
  {
   "cell_type": "markdown",
   "id": "e1be32f4",
   "metadata": {},
   "source": [
    "## Bibliotecas utilizadas:"
   ]
  },
  {
   "cell_type": "code",
   "execution_count": 125,
   "id": "a84cfe7c",
   "metadata": {},
   "outputs": [],
   "source": [
    "import numpy as np\n",
    "import math\n",
    "import matplotlib.pyplot as plt\n",
    "# Para mostrar apenas 3 casas decimaisa\n",
    "np.set_printoptions(precision=3)"
   ]
  },
  {
   "cell_type": "markdown",
   "id": "05887205",
   "metadata": {},
   "source": [
    "## Constantes e dados de entrada:"
   ]
  },
  {
   "cell_type": "code",
   "execution_count": 126,
   "id": "ca774190",
   "metadata": {},
   "outputs": [],
   "source": [
    "# Direções: informar aqui a direção de cada lâmina (em graus), de CIMA para BAIXO em relação ao laminado:\n",
    "#direc_deg = [0,45,0,45,0,45,45,0,45,0,45,0]\n",
    "direc_deg = [45,0,0,45]\n",
    "\n",
    "# Conversão para radianos\n",
    "direc = np.radians(direc_deg)\n",
    "n = len(direc)\n",
    "\n",
    "#Vetor de carregamentos (elementos não-nulos estão em unidades de N/mm)\n",
    "# Informar aqui os esforços, obedecendo a convenção:\n",
    "#carreg = [[Nx],[Ny],[Nxy],[Mx],[My],[Mxy]]\n",
    "\n",
    "carreg = [[1000*1000],[200*1000],[0],[0],[0],[0]] #N/m\n",
    "\n",
    "#Espessura de cada lâmina (esp): informar \n",
    "esp = 3E-3 #m\n",
    "#esp = float(input('Espessura (em m)'))\n",
    "\n",
    "\n",
    "#Espessura do laminado\n",
    "h = n*esp #m\n",
    "\n",
    "# Dados do material: informar aqui:\n",
    "E11 = 77E9 #Pa\n",
    "E22 = 75E9 #Pa\n",
    "nu12 = 0.06\n",
    "G12 = 6.5E9 #Pa\n",
    "\n",
    "#Relação entre coeficientes de Poisson\n",
    "nu21 = (E22*nu12)/E11\n",
    "\n",
    "# Informações sobre cirtério de falha (todas em MPa)\n",
    "XT = 1447E6\n",
    "XC = -1447E6\n",
    "YT = 51.7E6\n",
    "YC = -206E6\n",
    "S12 = 93E6\n"
   ]
  },
  {
   "cell_type": "markdown",
   "id": "96bd7f24",
   "metadata": {},
   "source": [
    "## Matriz de rigidez reduzida transformada no sistema global de coordenadas:"
   ]
  },
  {
   "cell_type": "code",
   "execution_count": 127,
   "id": "cd908377",
   "metadata": {},
   "outputs": [],
   "source": [
    "Q11 = E11/(1-nu12*nu21)\n",
    "Q22 = E22/(1-nu12*nu21)\n",
    "Q66 = G12\n",
    "Q12 = (nu12*E22)/(1-nu12*nu21)\n",
    "Q21 = Q12\n",
    "\n",
    "#Q = np.array([[Q11, Q12, 0],[Q21, Q22, 0], [0, 0, Q66]])\n",
    "Q = np.array([[181.8E9, 2.897E9, 0],[2.897E9, 10.35E9, 0], [0, 0, 7.17E9]])\n",
    "\n",
    "cos = np.cos(direc)\n",
    "sin = np.sin(direc)\n",
    "\n",
    "# Inicialização dos vetores:\n",
    "T = [[0 for _ in range(1)] for _ in range(n)]\n",
    "T_inv = [[0 for _ in range(1)] for _ in range(n)]\n",
    "Q_dash = [[0 for _ in range(1)] for _ in range(n)]\n",
    "Reuter = [[1,0,0],[0,1,0],[0,0,2]] # Matriz de Reuter\n",
    "\n",
    "# Cálculo da matriz Q_dash para cada uma das lâminas \n",
    "for i in range(n):\n",
    "    T[i] = np.array([[cos[i]**2, sin[i]**2, 2*sin[i]*cos[i]],[sin[i]**2, cos[i]**2, -2*sin[i]*cos[i]],[-sin[i]*cos[i], sin[i]*cos[i], cos[i]**2-sin[i]**2]])\n",
    "    T_inv[i] = np.linalg.inv(T[i])\n",
    "    Q_dash[i] = T_inv[i]@Q@Reuter@T[i]@np.linalg.inv(Reuter)\n",
    "#   print(Q_dash[i])\n"
   ]
  },
  {
   "cell_type": "markdown",
   "id": "cd890dca",
   "metadata": {},
   "source": [
    "## Matriz \"ABBD\":"
   ]
  },
  {
   "cell_type": "code",
   "execution_count": 128,
   "id": "dc38468f",
   "metadata": {},
   "outputs": [
    {
     "name": "stdout",
     "output_type": "stream",
     "text": [
      "Matriz ABBD:\n",
      "[[1.431e+09 2.713e+08 2.572e+08 0.000e+00 0.000e+00 0.000e+00]\n",
      " [2.713e+08 4.020e+08 2.572e+08 0.000e+00 0.000e+00 0.000e+00]\n",
      " [2.572e+08 2.572e+08 3.226e+08 0.000e+00 0.000e+00 0.000e+00]\n",
      " [0.000e+00 0.000e+00 0.000e+00 1.041e+04 5.384e+03 5.401e+03]\n",
      " [0.000e+00 0.000e+00 0.000e+00 5.384e+03 7.325e+03 5.401e+03]\n",
      " [0.000e+00 0.000e+00 0.000e+00 5.401e+03 5.401e+03 5.999e+03]]\n"
     ]
    }
   ],
   "source": [
    "# Matriz A: rigidez à tração e compressão\n",
    "# Inicialização\n",
    "A_local = [[0 for _ in range(1)] for _ in range(n)]\n",
    "A_global = 0\n",
    "\n",
    "for i in range(n):\n",
    "    A_local[i] = Q_dash[i]*(((((n/2)-(i+1))/n)*-h) - (((n/2 - i)/n)*-h))\n",
    "    #A_local[i] = Q_dash[i]*(h/n) # retorna os mesmos resultados, significa que está ok\n",
    "    A_global = A_global + A_local[i]\n",
    "#print(A_global)\n",
    "    \n",
    "# Matriz B: acoplamento entre rigidez no plano e rigidez à flexão\n",
    "B_local = [[0 for _ in range(1)] for _ in range(n)]\n",
    "B_global = 0\n",
    "for i in range(n):\n",
    "    B_local[i] = 0.5*Q_dash[i]*(((((n/2)-(i+1))/n)*-h)**2 - (((n/2 - i)/n)*-h)**2)\n",
    "    B_global = B_global + B_local[i]\n",
    "#print(B_global)\n",
    "\n",
    "# Matriz D: rigidez à flexão ou torção\n",
    "D_local = [[0 for _ in range(1)] for _ in range(n)]\n",
    "D_global = 0\n",
    "for i in range(n):\n",
    "    D_local[i] = (1/3)*Q_dash[i]*(((((n/2)-(i+1))/n)*-h)**3 - (((n/2 - i)/n)*-h)**3)\n",
    "    D_global = D_global + D_local[i]\n",
    "#print(D_global)\n",
    "\n",
    "# Combinando as matrizes em uma só   \n",
    "linha1 = np.vstack((A_global,B_global))\n",
    "linha2 = np.vstack((B_global,D_global))\n",
    "ABBD = np.hstack((linha1,linha2))\n",
    "print(\"Matriz ABBD:\")\n",
    "print(ABBD)"
   ]
  },
  {
   "cell_type": "markdown",
   "id": "0aee776b",
   "metadata": {},
   "source": [
    "Como era esperado, a matriz [B] é nula, já que o laminado é simétrico."
   ]
  },
  {
   "cell_type": "markdown",
   "id": "433a05ec",
   "metadata": {},
   "source": [
    "## Deformações no plano médio e curvatura em relação ao sistema global:"
   ]
  },
  {
   "cell_type": "code",
   "execution_count": 129,
   "id": "7e172fb3",
   "metadata": {},
   "outputs": [
    {
     "name": "stdout",
     "output_type": "stream",
     "text": [
      "[[ 0.001]\n",
      " [ 0.001]\n",
      " [-0.001]\n",
      " [ 0.   ]\n",
      " [ 0.   ]\n",
      " [ 0.   ]]\n"
     ]
    }
   ],
   "source": [
    "# Inicialização do vetor\n",
    "def_curv = [[0],[0],[0],[0],[0],[0]]\n",
    "\n",
    "def_curv = np.linalg.inv(ABBD)@carreg\n",
    "\n",
    "epsilon_0_global = np.vstack((def_curv[0],def_curv[1],def_curv[2]))\n",
    "K_global = np.vstack((def_curv[3],def_curv[4],def_curv[5]))\n",
    "\n",
    "print(def_curv)\n"
   ]
  },
  {
   "cell_type": "markdown",
   "id": "013424ab",
   "metadata": {},
   "source": [
    "Percebe-se que os valores de curvatura são muito baixos (podem ser considerados como nulos), o que já era esperado pois não é realizado momento sobre a estrutura. Isso indica que os resultados são condizentes."
   ]
  },
  {
   "cell_type": "markdown",
   "id": "884d7973",
   "metadata": {},
   "source": [
    "## Tensões e deformações em cada lâmina:"
   ]
  },
  {
   "cell_type": "code",
   "execution_count": 130,
   "id": "fc83c459",
   "metadata": {},
   "outputs": [
    {
     "name": "stdout",
     "output_type": "stream",
     "text": [
      "==============================\n",
      "Resultados lâmina 1:\n",
      "Tensão na lâmina no sistema global de coordenadas (MPa): \n",
      "[[23.569]\n",
      " [23.277]\n",
      " [ 8.745]]\n",
      "Tensão na lâmina no sistema local de coordenadas (MPa):\n",
      "[[32.168]\n",
      " [14.678]\n",
      " [-0.146]]\n",
      "Deformação no plano médio da lâmina no sistema global de coordenadas:\n",
      "[[ 0.001]\n",
      " [ 0.001]\n",
      " [-0.001]]\n",
      "Deformação no plano médio da lâmina no sistema local de coordenadas:\n",
      "[[-4.548e-04]\n",
      " [ 1.985e-03]\n",
      " [-1.020e-05]]\n",
      "==============================\n",
      "Resultados lâmina 2:\n",
      "Tensão na lâmina no sistema global de coordenadas (MPa): \n",
      "[[143.097]\n",
      " [ 10.057]\n",
      " [ -8.745]]\n",
      "Tensão na lâmina no sistema local de coordenadas (MPa):\n",
      "[[143.097]\n",
      " [ 10.057]\n",
      " [ -8.745]]\n",
      "Deformação no plano médio da lâmina no sistema global de coordenadas:\n",
      "[[ 0.001]\n",
      " [ 0.001]\n",
      " [-0.001]]\n",
      "Deformação no plano médio da lâmina no sistema local de coordenadas:\n",
      "[[ 0.001]\n",
      " [ 0.001]\n",
      " [-0.001]]\n",
      "==============================\n",
      "Resultados lâmina 3:\n",
      "Tensão na lâmina no sistema global de coordenadas (MPa): \n",
      "[[143.097]\n",
      " [ 10.057]\n",
      " [ -8.745]]\n",
      "Tensão na lâmina no sistema local de coordenadas (MPa):\n",
      "[[143.097]\n",
      " [ 10.057]\n",
      " [ -8.745]]\n",
      "Deformação no plano médio da lâmina no sistema global de coordenadas:\n",
      "[[ 0.001]\n",
      " [ 0.001]\n",
      " [-0.001]]\n",
      "Deformação no plano médio da lâmina no sistema local de coordenadas:\n",
      "[[ 0.001]\n",
      " [ 0.001]\n",
      " [-0.001]]\n",
      "==============================\n",
      "Resultados lâmina 4:\n",
      "Tensão na lâmina no sistema global de coordenadas (MPa): \n",
      "[[23.569]\n",
      " [23.277]\n",
      " [ 8.745]]\n",
      "Tensão na lâmina no sistema local de coordenadas (MPa):\n",
      "[[32.168]\n",
      " [14.678]\n",
      " [-0.146]]\n",
      "Deformação no plano médio da lâmina no sistema global de coordenadas:\n",
      "[[ 0.001]\n",
      " [ 0.001]\n",
      " [-0.001]]\n",
      "Deformação no plano médio da lâmina no sistema local de coordenadas:\n",
      "[[-4.548e-04]\n",
      " [ 1.985e-03]\n",
      " [-1.020e-05]]\n"
     ]
    }
   ],
   "source": [
    "\n",
    "# Tensões e deformações em cada lâmina (coordenadas z referenciadas no plano médio de cada lâmina)\n",
    "sigma_global = [[0 for _ in range(1)] for _ in range(n)]\n",
    "sigma_local = [[0 for _ in range(1)] for _ in range(n)]\n",
    "z = [[0 for _ in range(1)] for _ in range(n)]\n",
    "epsilon_global = [[0 for _ in range(1)] for _ in range(n)]\n",
    "epsilon_local = [[0 for _ in range(1)] for _ in range(n)]\n",
    "y = [[0 for _ in range(1)] for _ in range(n)]\n",
    "\n",
    "for i in range(n):\n",
    "    z[i] = 0.5*(((((n/2)-(i+1))/n)*-h) + (((n/2 - i)/n)*-h))\n",
    "    sigma_global[i] = (Q_dash[i]@(epsilon_0_global + (z[i]*K_global)))\n",
    "    print(\"==============================\")\n",
    "    print(\"Resultados lâmina %d:\" %(i+1))\n",
    "    print(\"Tensão na lâmina no sistema global de coordenadas (MPa): \")\n",
    "    print(sigma_global[i]*10**-6)\n",
    "    sigma_local[i] = T[i]@sigma_global[i]\n",
    "    print(\"Tensão na lâmina no sistema local de coordenadas (MPa):\")\n",
    "    print(sigma_local[i]*10**-6)\n",
    "    epsilon_global[i] = epsilon_0_global + z[i]*K_global\n",
    "    print(\"Deformação no plano médio da lâmina no sistema global de coordenadas:\")\n",
    "    print(epsilon_global[i])\n",
    "    epsilon_local[i] = T[i]@epsilon_global[i]\n",
    "    print(\"Deformação no plano médio da lâmina no sistema local de coordenadas:\")\n",
    "    print(epsilon_local[i])\n",
    "\n",
    "\n",
    "    "
   ]
  },
  {
   "cell_type": "markdown",
   "id": "d55ff7b0",
   "metadata": {},
   "source": [
    "## Análise de falhas: Máxima tração"
   ]
  },
  {
   "cell_type": "code",
   "execution_count": 131,
   "id": "72c55fb5",
   "metadata": {},
   "outputs": [
    {
     "name": "stdout",
     "output_type": "stream",
     "text": [
      "Margem de segurança pelo critério da máxima tensão: 3.522 \n"
     ]
    }
   ],
   "source": [
    "CS_1 = [[0 for _ in range(1)] for _ in range(n)]\n",
    "CS_2 = [[0 for _ in range(1)] for _ in range(n)]\n",
    "CS_12 = [[0 for _ in range(1)] for _ in range(n)]\n",
    "\n",
    "#sigma_local_transp = np.transpose(sigma_local)\n",
    "\n",
    "for i in range(n):\n",
    "    if sigma_local[i][0,0] > 0:\n",
    "        CS_1[i] = XT/sigma_local[i][0,0]\n",
    "    else:\n",
    "        CS_1[i] = (-XC)/sigma_local[i][0,0]\n",
    "\n",
    "    if sigma_local[i][1,0] > 0:\n",
    "        CS_2[i] = YT/sigma_local[i][1,0] \n",
    "    else:\n",
    "        CS_2[i] = (-YC)/sigma_local[i][1,0] \n",
    "\n",
    "    if sigma_local[i][2,0] > 0:\n",
    "        CS_12[i] = S12/abs(sigma_local[i][2,0])\n",
    "    else:\n",
    "        CS_12[i] = S12/abs(sigma_local[i][2,0])\n",
    "   \n",
    "CS = min([min(CS_1),min(CS_2),min(CS_12)])\n",
    "\n",
    "# resultados:\n",
    "print(\"Margem de segurança pelo critério da máxima tensão: %.3f \" %CS)\n",
    "\n"
   ]
  },
  {
   "cell_type": "markdown",
   "id": "b5159ecf",
   "metadata": {},
   "source": [
    "## Tsai-Hill"
   ]
  },
  {
   "cell_type": "code",
   "execution_count": 132,
   "id": "532907fb",
   "metadata": {},
   "outputs": [
    {
     "data": {
      "image/png": "[encoded data removed]",
      "text/plain": [
       "<Figure size 432x288 with 1 Axes>"
      ]
     },
     "metadata": {
      "needs_background": "light"
     },
     "output_type": "display_data"
    }
   ],
   "source": [
    "FS_TH = [[0 for _ in range(1)] for _ in range(n)]\n",
    "MS_TH = [[0 for _ in range(1)] for _ in range(n)]\n",
    "\n",
    "for i in range(n):\n",
    "    if sigma_local[i][0,0] > 0 and sigma_local[i][1,0] > 0:\n",
    "        FS_TH[i] = np.sqrt((sigma_local[i][0,0]/XT)**2 + (sigma_local[i][1,0]/YT)**2 - (sigma_local[i][1,0]*sigma_local[i][0,0]/(XT**2)+(sigma_local[i][2,0]/S12)**2))\n",
    "        MS_TH[i] = 1/FS_TH[i]\n",
    "    elif sigma_local[i][0,0] < 0 and sigma_local[i][1,0] > 0:\n",
    "        FS_TH[i] = np.sqrt((sigma_local[i][0,0]/XC)**2 + (sigma_local[i][1,0]/YT)**2 - (sigma_local[i][1,0]*sigma_local[i][0,0]/(XC**2)+(sigma_local[i][2,0]/S12)**2))\n",
    "        MS_TH[i] = 1/FS_TH[i] \n",
    "    elif sigma_local[i][0,0] < 0 and sigma_local[i][1,0] < 0:\n",
    "        FS_TH[i] = np.sqrt((sigma_local[i][0,0]/XC)**2 + (sigma_local[i][1,0]/YC)**2 - (sigma_local[i][1,0]*sigma_local[i][0,0]/(XC**2)+(sigma_local[i][2,0]/S12)**2))\n",
    "        MS_TH[i] = 1/FS_TH[i]\n",
    "    elif sigma_local[i][0,0] > 0 and sigma_local[i][1,0] < 0:\n",
    "        FS_TH[i] = np.sqrt((sigma_local[i][0,0]/XT)**2 + (sigma_local[i][1,0]/YC)**2 - (sigma_local[i][1,0]*sigma_local[i][0,0]/(XT**2)+(sigma_local[i][2,0]/S12)**2))\n",
    "        MS_TH[i] = 1/FS_TH[i]   \n",
    "    \n",
    "\n",
    "print(\"Margem de segurança pelo critério de Tsai-Hill: %.3f \" %(min(MS_TH)))\n",
    "\n",
    "\n",
    "# Superfície de falha:\n",
    "\n",
    "#mp.splot(f, [0,100],[0,100],points=200)\n",
    "\n",
    "\n",
    "def grafalha(Xt,Xc,Yt,Yc,S12,sigc,sigt,tau12,vtor):\n",
    "    for k in range(249):\n",
    "        vtor[k] = (Yt*np.sqrt(-4*Xt**4*tau12**2+(S12**2*Yt**2-4*S12**2*Xt**2)*sigt[k]**2+4*S12**2*Xt**4)-S12*Yt**2*sigt[k])/(2*S12*Xt**2)\n",
    "        #print(k)\n",
    "        vtor[k+250] = (Yt*np.sqrt(-4*Xc**4*tau12**2+(S12**2*Yt**2-4*S12**2*Xc**2)*sigc[k]**2+4*S12**2*Xc**4)+S12*Yt**2*sigc[k])/(2*S12*Xc**2)\n",
    "        #print(k)\n",
    "        vtor[k+500] = (Yc*np.sqrt(-4*Xc**4*tau12**2+(S12**2*Yc**2-4*S12**2*Xc**2)*sigc[k]**2+4*S12**2*Xc**4)-S12*Yc**2*sigc[k])/(2*S12*Xc**2)\n",
    "        #print(k)\n",
    "        vtor[k+750] = (Yc*np.sqrt(-4*Xt**4*tau12**2+(S12**2*Yc**2-4*S12**2*Xt**2)*sigt[k]**2+4*S12**2*Xt**4)+S12*Yc**2*sigt[k])/(2*S12*Xt**2)\n",
    "        #print(k)\n",
    "    \n",
    "    x_inter1 = -(2*(Yc*Yt*(S12**2*Xc*Xt*Yc**2 + S12**2*Xc*Xt*Yt**2 + S12**2*Xc**2*Yc*Yt + S12**2*Xt**2*Yc*Yt + S12**2*Xc*Xt*Yc*Yt + 3*Xc*Xt*Yc*Yt*tau12**2 - S12**2*Xc*Xt**2*Yc*Yt**2*(1/(Xc*Xt*Yc*Yt))**(1/2) - S12**2*Xc*Xt**2*Yc**2*Yt*(1/(Xc*Xt*Yc*Yt))**(1/2) - S12**2*Xc**2*Xt*Yc*Yt**2*(1/(Xc*Xt*Yc*Yt))**(1/2) - S12**2*Xc**2*Xt*Yc**2*Yt*(1/(Xc*Xt*Yc*Yt))**(1/2)))**(1/2) - 2*S12*Xc*Yc*Yt - 2*S12*Xt*Yc*Yt + S12*Xc*Xt*Yc*Yt**2*(1/(Xc*Xt*Yc*Yt))**(1/2) + S12*Xc*Xt*Yc**2*Yt*(1/(Xc*Xt*Yc*Yt))**(1/2))/(3*S12*Yc*Yt)\n",
    "    x_inter2 = (2*(Yc*Yt*(S12**2*Xc*Xt*Yc**2 + S12**2*Xc*Xt*Yt**2 + S12**2*Xc**2*Yc*Yt + S12**2*Xt**2*Yc*Yt + S12**2*Xc*Xt*Yc*Yt + 3*Xc*Xt*Yc*Yt*tau12**2 - S12**2*Xc*Xt**2*Yc*Yt**2*(1/(Xc*Xt*Yc*Yt))**(1/2) - S12**2*Xc*Xt**2*Yc**2*Yt*(1/(Xc*Xt*Yc*Yt))**(1/2) - S12**2*Xc**2*Xt*Yc*Yt**2*(1/(Xc*Xt*Yc*Yt))**(1/2) - S12**2*Xc**2*Xt*Yc**2*Yt*(1/(Xc*Xt*Yc*Yt))**(1/2)))**(1/2) + 2*S12*Xc*Yc*Yt + 2*S12*Xt*Yc*Yt - S12*Xc*Xt*Yc*Yt**2*(1/(Xc*Xt*Yc*Yt))**(1/2) - S12*Xc*Xt*Yc**2*Yt*(1/(Xc*Xt*Yc*Yt))**(1/2))/(3*S12*Yc*Yt)\n",
    "    sig1 = np.linspace(x_inter1,x_inter2, 1000)\n",
    "    sig2 = np.linspace(0, 0, 1000)\n",
    "    sig3 = np.linspace(0, 0, 1000)\n",
    "    for k in range(1000):\n",
    "        sig2[k] = (np.sqrt(4*Xc**2*Xt**2*Yc*Yt*tau12**2-3*S12**2*Xc*Xt*Yc*Yt*sig1[k]**2+(((4*S12**2*Xc*Xt**2+4*S12**2*Xc**2*Xt)*Yc-2*S12**2*Xc**2*Xt**2*Yc**2*np.sqrt(1/(Xc*Xt*Yc*Yt)))*Yt-2*S12**2*Xc**2*Xt**2*Yc*np.sqrt(1/(Xc*Xt*Yc*Yt))*Yt**2)*sig1[k]+S12**2*Xc**2*Xt**2*Yt**2-2*S12**2*Xc**2*Xt**2*Yc*Yt+S12**2*Xc**2*Xt**2*Yc**2)-S12*Xc*Xt*Yc*np.sqrt(1/(Xc*Xt*Yc*Yt))*Yt*sig1[k]+S12*Xc*Xt*Yt+S12*Xc*Xt*Yc)/(2*S12*Xc*Xt)\n",
    "        sig3[k] = -(np.sqrt(4*Xc**2*Xt**2*Yc*Yt*tau12**2-3*S12**2*Xc*Xt*Yc*Yt*sig1[k]**2+(((4*S12**2*Xc*Xt**2+4*S12**2*Xc**2*Xt)*Yc-2*S12**2*Xc**2*Xt**2*Yc**2*np.sqrt(1/(Xc*Xt*Yc*Yt)))*Yt-2*S12**2*Xc**2*Xt**2*Yc*np.sqrt(1/(Xc*Xt*Yc*Yt))*Yt**2)*sig1[k]+S12**2*Xc**2*Xt**2*Yt**2-2*S12**2*Xc**2*Xt**2*Yc*Yt+S12**2*Xc**2*Xt**2*Yc**2)+S12*Xc*Xt*Yc*np.sqrt(1/(Xc*Xt*Yc*Yt))*Yt*sig1[k]-S12*Xc*Xt*Yt-S12*Xc*Xt*Yc)/(2*S12*Xc*Xt)\n",
    "    #Plotando\n",
    "    #    d=get('current_figure')\n",
    "    #plt.plot([Xt,Xc,Xc,Xt,Xt],[Yt,Yt,Yc,Yc,Yt]) #Máxima tensão\n",
    "#     e = gce()\n",
    "#     e.children.thickness=3\n",
    "#    plt.plot(sigt,vtor[0:249]) #Tsai-Hill 1º Quadrante\n",
    "#     e = gce()\n",
    "#     e.children.thickness = 3\n",
    "#    plt.plot(sigc,vtor[250:499]) #Tsai-Hill 2º Quadrante\n",
    "#     e = gce()\n",
    "#     e.children.thickness = 3\n",
    "#    plt.plot(sigc,vtor[500:749]) #Tsai-Hill 3º Quadrante\n",
    "#     e = gce()\n",
    "#     e.children.thickness = 3\n",
    "#    plt.plot(sigt,vtor[750:999]) #Tsai-Hill 4º Quadrante\n",
    "#     e = gce()\n",
    "#     e.children.thickness = 3\n",
    "    plt.plot(sig1,sig2) #Tsai-Wu Positivo\n",
    "#     e = gce()\n",
    "#     e.children.thickness = 3\n",
    "    plt.plot(sig1,sig3) #Tsai-Wu Negativo\n",
    "#     e = gce()\n",
    "#     e.children(1).thickness=3\n",
    "#     plot(tens_l(1,:),tens_l(2,:),'ok')//Tensões locais\n",
    "#     e = gce()\n",
    "#     e.children.mark_style = 0\n",
    "#     title('Análise de Falha','fontsize',2)\n",
    "#     xlabel(\"${\\sigma_1}\\ [\\,\\text{Pa}\\,]$\",'fontsize',2)\n",
    "#     ylabel(\"${\\sigma_2}\\ [\\,\\text{Pa}\\,]$\",'fontsize',2)\n",
    "\n",
    "\n",
    "\n",
    "#Propriedades\n",
    "Xt = XT\n",
    "Xc = XC\n",
    "Yt = YT\n",
    "Yc = YC\n",
    "\n",
    "\n",
    "#Tensão genérica\n",
    "sigc = np.linspace(Xc, 0, 249)\n",
    "sigt = np.linspace(0, Xt, 249)\n",
    "tau12 = 0\n",
    "vtor = np.linspace(0, 0, 1000)\n",
    "\n",
    "k=0\n",
    "# print(sigc)\n",
    "# print(sigt)\n",
    "# print(vtor)\n",
    "\n",
    "#print(vtor)\n",
    "fig0 = grafalha(Xt,Xc,Yt,Yc,S12,sigc,sigt,tau12,vtor)\n",
    "\n",
    "\n"
   ]
  },
  {
   "cell_type": "markdown",
   "id": "73a9063d",
   "metadata": {},
   "source": [
    "## Tsai-Wu"
   ]
  },
  {
   "cell_type": "code",
   "execution_count": 133,
   "id": "1b95c67d",
   "metadata": {},
   "outputs": [
    {
     "name": "stdout",
     "output_type": "stream",
     "text": [
      "[3.6201394549774983, 4.4036430064350665, 4.4036430064350665, 3.6201394549774983]\n"
     ]
    }
   ],
   "source": [
    "import math\n",
    "F1 = 1/XT + 1/XC\n",
    "F2 = 1/YT + 1/YC\n",
    "F11 = -1/(XT*XC)\n",
    "F22 = -1/(YT*YC)\n",
    "F66 = (1/S12)**2\n",
    "F12 = -0.5*np.sqrt(F11*F22)\n",
    "\n",
    "A = [[0 for _ in range(1)] for _ in range(n)]\n",
    "B = [[0 for _ in range(1)] for _ in range(n)]\n",
    "Sf_pos = [[0 for _ in range(1)] for _ in range(n)]\n",
    "Sf_neg = [[0 for _ in range(1)] for _ in range(n)]\n",
    "Sf = [[0 for _ in range(1)] for _ in range(n)]\n",
    "\n",
    "for i in range(n):\n",
    "    A[i] = F11*sigma_local[i][0,0]**2 + F22*sigma_local[i][1,0]**2 + F66*sigma_local[i][2,0]**2 + 2*F12*sigma_local[i][0,0]*sigma_local[i][1,0]\n",
    "    B[i] = F1*sigma_local[i][0,0] + F2*sigma_local[i][1,0]\n",
    "    Sf_pos[i] = (-B[i] + np.sqrt(B[i]**2 + 4*A[i]))/(2*A[i])\n",
    "    Sf_neg[i] = abs((-B[i] - np.sqrt(B[i]**2 + 4*A[i]))/(2*A[i]))\n",
    "\n",
    "    Sf[i] = min(Sf_pos[i],Sf_neg[i])\n",
    "\n",
    "print(Sf)"
   ]
  },
  {
   "cell_type": "code",
   "execution_count": null,
   "id": "a8605729",
   "metadata": {},
   "outputs": [],
   "source": []
  }
 ],
 "metadata": {
  "kernelspec": {
   "display_name": "Python 3",
   "language": "python",
   "name": "python3"
  },
  "language_info": {
   "codemirror_mode": {
    "name": "ipython",
    "version": 3
   },
   "file_extension": ".py",
   "mimetype": "text/x-python",
   "name": "python",
   "nbconvert_exporter": "python",
   "pygments_lexer": "ipython3",
   "version": "3.8.8"
  },
  "vscode": {
   "interpreter": {
    "hash": "108e5f22bfb80c194968c4d8788f0cbe4cd0be3d6d353645b9b42c2d56b0e8e7"
   }
  }
 },
 "nbformat": 4,
 "nbformat_minor": 5
}
