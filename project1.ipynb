{
 "cells": [
  {
   "cell_type": "markdown",
   "id": "063f90cc",
   "metadata": {},
   "source": [
    "Autores: \n",
    "- Fernando Basso Gresele\n",
    "- Hyan Schubert\n",
    "- Norton Martin Reichert Trennepohl"
   ]
  },
  {
   "cell_type": "markdown",
   "id": "e1be32f4",
   "metadata": {},
   "source": [
    "## Bibliotecas:"
   ]
  },
  {
   "cell_type": "code",
   "execution_count": 124,
   "id": "a84cfe7c",
   "metadata": {},
   "outputs": [],
   "source": [
    "# Bibliotecas básicas\n",
    "import numpy as np\n",
    "import math\n",
    "import matplotlib \n",
    "\n",
    "# Bibliotecas gráficas\n",
    "import matplotlib.pyplot as plt\n",
    "matplotlib.rc('font', family = 'Arial')\n",
    "matplotlib.rc('font', size = 14)\n",
    "\n",
    "# Para mostrar apenas 3 casas decimais\n",
    "np.set_printoptions(precision=3)"
   ]
  },
  {
   "cell_type": "markdown",
   "id": "05887205",
   "metadata": {},
   "source": [
    "## Constantes e dados de entrada:"
   ]
  },
  {
   "cell_type": "code",
   "execution_count": 125,
   "id": "ca774190",
   "metadata": {},
   "outputs": [],
   "source": [
    "# Direções: informar aqui a direção de cada lâmina (em graus), de CIMA para BAIXO em relação ao laminado:\n",
    "#direc_deg = [0,45,0,45,0,45,45,0,45,0,45,0]\n",
    "direc_deg = [45,0,0,45,20,70]\n",
    "\n",
    "# Conversão para radianos\n",
    "direc = np.radians(direc_deg)\n",
    "n = len(direc)\n",
    "\n",
    "#Vetor de carregamentos (elementos não-nulos estão em unidades de N/m)\n",
    "# Informar aqui os esforços, obedecendo a convenção:\n",
    "#carreg = [[Nx],[Ny],[Nxy],[Mx],[My],[Mxy]]\n",
    "\n",
    "carreg = [[10*1000],[2000*1000],[0],[0],[0],[0]] #N/m\n",
    "\n",
    "#Espessura de cada lâmina (esp): informar \n",
    "esp = 10E-3 #m\n",
    "#esp = float(input('Espessura (em m)'))\n",
    "\n",
    "#Espessura do laminado\n",
    "h = n*esp #m\n",
    "\n",
    "# Dados do material: informar aqui:\n",
    "E11 = 77E9 #Pa\n",
    "E22 = 75E9 #Pa\n",
    "nu12 = 0.35\n",
    "G12 = 6.5E9 #Pa\n",
    "\n",
    "#Relação entre coeficientes de Poisson\n",
    "nu21 = (E22*nu12)/E11\n",
    "\n",
    "# Informações sobre cirtério de falha (todas em MPa)\n",
    "XT = 123E6\n",
    "XC = -147E6\n",
    "YT = 100E6\n",
    "YC = -505E6\n",
    "S12 = 23E6"
   ]
  },
  {
   "cell_type": "markdown",
   "id": "96bd7f24",
   "metadata": {},
   "source": [
    "## Matriz de rigidez reduzida transformada no sistema global de coordenadas:"
   ]
  },
  {
   "cell_type": "code",
   "execution_count": 126,
   "id": "cd908377",
   "metadata": {},
   "outputs": [],
   "source": [
    "Q11 = E11/(1-nu12*nu21)\n",
    "Q22 = E22/(1-nu12*nu21)\n",
    "Q66 = G12\n",
    "Q12 = (nu12*E22)/(1-nu12*nu21)\n",
    "Q21 = Q12\n",
    "\n",
    "Q = np.array([[Q11, Q12, 0],[Q21, Q22, 0], [0, 0, Q66]])\n",
    "\n",
    "cos = np.cos(direc)\n",
    "sin = np.sin(direc)\n",
    "\n",
    "# Inicialização dos vetores:\n",
    "T = [[0 for _ in range(1)] for _ in range(n)]\n",
    "T_inv = [[0 for _ in range(1)] for _ in range(n)]\n",
    "Q_dash = [[0 for _ in range(1)] for _ in range(n)]\n",
    "Reuter = [[1,0,0],[0,1,0],[0,0,2]] # Matriz de Reuter\n",
    "\n",
    "# Cálculo da matriz Q_dash para cada uma das lâminas \n",
    "for i in range(n):\n",
    "    T[i] = np.array([[cos[i]**2, sin[i]**2, 2*sin[i]*cos[i]],[sin[i]**2, cos[i]**2, -2*sin[i]*cos[i]],[-sin[i]*cos[i], sin[i]*cos[i], cos[i]**2-sin[i]**2]])\n",
    "    T_inv[i] = np.linalg.inv(T[i])\n",
    "    Q_dash[i] = T_inv[i]@Q@Reuter@T[i]@np.linalg.inv(Reuter)\n",
    "#   print(Q_dash[i])\n"
   ]
  },
  {
   "cell_type": "markdown",
   "id": "cd890dca",
   "metadata": {},
   "source": [
    "## Matriz \"ABBD\":"
   ]
  },
  {
   "cell_type": "code",
   "execution_count": 127,
   "id": "dc38468f",
   "metadata": {},
   "outputs": [
    {
     "name": "stdout",
     "output_type": "stream",
     "text": [
      "Matriz ABBD:\n",
      "[[ 4.586e+09  2.403e+09  1.865e+07  4.411e+05 -7.552e+05 -1.038e+06]\n",
      " [ 2.403e+09  4.541e+09  1.865e+07 -7.552e+05  1.069e+06  1.103e+06]\n",
      " [ 1.865e+07  1.865e+07  1.005e+09 -1.038e+06  1.103e+06 -7.552e+05]\n",
      " [ 4.411e+05 -7.552e+05 -1.038e+06  1.330e+06  7.594e+05 -3.588e+04]\n",
      " [-7.552e+05  1.069e+06  1.103e+06  7.594e+05  1.331e+06  4.978e+04]\n",
      " [-1.038e+06  1.103e+06 -7.552e+05 -3.588e+04  4.978e+04  3.398e+05]]\n"
     ]
    }
   ],
   "source": [
    "# Matriz A: rigidez à tração e compressão\n",
    "# Inicialização\n",
    "A_local = [[0 for _ in range(1)] for _ in range(n)]\n",
    "B_local = [[0 for _ in range(1)] for _ in range(n)]\n",
    "D_local = [[0 for _ in range(1)] for _ in range(n)]\n",
    "A_global = 0\n",
    "B_global = 0\n",
    "D_global = 0\n",
    "\n",
    "for i in range(n):\n",
    "    A_local[i] = Q_dash[i]*(((((n/2)-(i+1))/n)*-h) - (((n/2 - i)/n)*-h))\n",
    "    #A_local[i] = Q_dash[i]*(h/n) # retorna os mesmos resultados, significa que está ok\n",
    "    A_global = A_global + A_local[i]\n",
    "    B_local[i] = 0.5*Q_dash[i]*(((((n/2)-(i+1))/n)*-h)**2 - (((n/2 - i)/n)*-h)**2)\n",
    "    B_global = B_global + B_local[i]\n",
    "    D_local[i] = (1/3)*Q_dash[i]*(((((n/2)-(i+1))/n)*-h)**3 - (((n/2 - i)/n)*-h)**3)\n",
    "    D_global = D_global + D_local[i]\n",
    "\n",
    "# Combinando as matrizes em uma só   \n",
    "linha1 = np.vstack((A_global,B_global))\n",
    "linha2 = np.vstack((B_global,D_global))\n",
    "ABBD = np.hstack((linha1,linha2))\n",
    "print(\"Matriz ABBD:\")\n",
    "print(ABBD)"
   ]
  },
  {
   "cell_type": "markdown",
   "id": "433a05ec",
   "metadata": {},
   "source": [
    "## Deformações no plano médio e curvatura em relação ao sistema global:"
   ]
  },
  {
   "cell_type": "code",
   "execution_count": 128,
   "id": "7e172fb3",
   "metadata": {},
   "outputs": [
    {
     "name": "stdout",
     "output_type": "stream",
     "text": [
      "[[-3.184e-04]\n",
      " [ 6.101e-04]\n",
      " [-5.093e-06]\n",
      " [ 1.036e-03]\n",
      " [-1.157e-03]\n",
      " [-2.686e-03]]\n"
     ]
    }
   ],
   "source": [
    "# Inicialização do vetor\n",
    "def_curv = [[0],[0],[0],[0],[0],[0]]\n",
    "\n",
    "def_curv = np.linalg.inv(ABBD)@carreg\n",
    "\n",
    "epsilon_0_global = np.vstack((def_curv[0],def_curv[1],def_curv[2]))\n",
    "K_global = np.vstack((def_curv[3],def_curv[4],def_curv[5]))\n",
    "\n",
    "print(def_curv)\n"
   ]
  },
  {
   "cell_type": "markdown",
   "id": "013424ab",
   "metadata": {},
   "source": [
    "Percebe-se que os valores de curvatura são muito baixos (podem ser considerados como nulos), o que já era esperado pois não é realizado momento sobre a estrutura. Isso indica que os resultados são condizentes."
   ]
  },
  {
   "cell_type": "markdown",
   "id": "884d7973",
   "metadata": {},
   "source": [
    "## Tensões e deformações em cada lâmina:"
   ]
  },
  {
   "cell_type": "code",
   "execution_count": 129,
   "id": "fc83c459",
   "metadata": {},
   "outputs": [
    {
     "name": "stdout",
     "output_type": "stream",
     "text": [
      "==============================\n",
      "Resultados lâmina 1:\n",
      "Tensão na lâmina no sistema global de coordenadas (MPa): \n",
      "[[10.754]\n",
      " [23.537]\n",
      " [ 1.92 ]]\n",
      "Tensão na lâmina no sistema local de coordenadas (MPa):\n",
      "[[19.065]\n",
      " [15.226]\n",
      " [ 6.392]]\n",
      "Deformação no plano médio da lâmina no sistema global de coordenadas:\n",
      "[[-3.443e-04]\n",
      " [ 6.390e-04]\n",
      " [ 6.205e-05]]\n",
      "Deformação no plano médio da lâmina no sistema local de coordenadas:\n",
      "[[2.094e-04]\n",
      " [8.532e-05]\n",
      " [4.917e-04]]\n",
      "==============================\n",
      "Resultados lâmina 2:\n",
      "Tensão na lâmina no sistema global de coordenadas (MPa): \n",
      "[[-10.494]\n",
      " [ 43.482]\n",
      " [  0.229]]\n",
      "Tensão na lâmina no sistema local de coordenadas (MPa):\n",
      "[[-10.494]\n",
      " [ 43.482]\n",
      " [  0.229]]\n",
      "Deformação no plano médio da lâmina no sistema global de coordenadas:\n",
      "[[-3.339e-04]\n",
      " [ 6.275e-04]\n",
      " [ 3.519e-05]]\n",
      "Deformação no plano médio da lâmina no sistema local de coordenadas:\n",
      "[[-3.339e-04]\n",
      " [ 6.275e-04]\n",
      " [ 3.519e-05]]\n",
      "==============================\n",
      "Resultados lâmina 3:\n",
      "Tensão na lâmina no sistema global de coordenadas (MPa): \n",
      "[[-9.933]\n",
      " [42.805]\n",
      " [ 0.054]]\n",
      "Tensão na lâmina no sistema local de coordenadas (MPa):\n",
      "[[-9.933]\n",
      " [42.805]\n",
      " [ 0.054]]\n",
      "Deformação no plano médio da lâmina no sistema global de coordenadas:\n",
      "[[-3.236e-04]\n",
      " [ 6.159e-04]\n",
      " [ 8.335e-06]]\n",
      "Deformação no plano médio da lâmina no sistema local de coordenadas:\n",
      "[[-3.236e-04]\n",
      " [ 6.159e-04]\n",
      " [ 8.335e-06]]\n",
      "==============================\n",
      "Resultados lâmina 4:\n",
      "Tensão na lâmina no sistema global de coordenadas (MPa): \n",
      "[[10.925]\n",
      " [22.853]\n",
      " [-0.358]]\n",
      "Tensão na lâmina no sistema local de coordenadas (MPa):\n",
      "[[16.531]\n",
      " [17.247]\n",
      " [ 5.964]]\n",
      "Deformação no plano médio da lâmina no sistema global de coordenadas:\n",
      "[[-3.132e-04]\n",
      " [ 6.043e-04]\n",
      " [-1.852e-05]]\n",
      "Deformação no plano médio da lâmina no sistema local de coordenadas:\n",
      "[[0.]\n",
      " [0.]\n",
      " [0.]]\n",
      "==============================\n",
      "Resultados lâmina 5:\n",
      "Tensão na lâmina no sistema global de coordenadas (MPa): \n",
      "[[ -1.186]\n",
      " [ 34.032]\n",
      " [-10.186]]\n",
      "Tensão na lâmina no sistema local de coordenadas (MPa):\n",
      "[[-3.614]\n",
      " [36.46 ]\n",
      " [ 3.516]]\n",
      "Deformação no plano médio da lâmina no sistema global de coordenadas:\n",
      "[[-3.028e-04]\n",
      " [ 5.927e-04]\n",
      " [-4.538e-05]]\n",
      "Deformação no plano médio da lâmina no sistema local de coordenadas:\n",
      "[[-0.   ]\n",
      " [ 0.001]\n",
      " [ 0.   ]]\n",
      "==============================\n",
      "Resultados lâmina 6:\n",
      "Tensão na lâmina no sistema global de coordenadas (MPa): \n",
      "[[ 0.934]\n",
      " [33.291]\n",
      " [ 8.341]]\n",
      "Tensão na lâmina no sistema local de coordenadas (MPa):\n",
      "[[34.868]\n",
      " [-0.643]\n",
      " [ 4.01 ]]\n",
      "Deformação no plano médio da lâmina no sistema global de coordenadas:\n",
      "[[-2.925e-04]\n",
      " [ 5.812e-04]\n",
      " [-7.223e-05]]\n",
      "Deformação no plano médio da lâmina no sistema local de coordenadas:\n",
      "[[ 0.]\n",
      " [-0.]\n",
      " [ 0.]]\n"
     ]
    }
   ],
   "source": [
    "# Tensões e deformações em cada lâmina (coordenadas z referenciadas no plano médio de cada lâmina)\n",
    "sigma_global = [[0 for _ in range(1)] for _ in range(n)]\n",
    "sigma_local = [[0 for _ in range(1)] for _ in range(n)]\n",
    "z = [[0 for _ in range(1)] for _ in range(n)]\n",
    "epsilon_global = [[0 for _ in range(1)] for _ in range(n)]\n",
    "epsilon_local = [[0 for _ in range(1)] for _ in range(n)]\n",
    "y = [[0 for _ in range(1)] for _ in range(n)]\n",
    "\n",
    "for i in range(n):\n",
    "    z[i] = 0.5*(((((n/2)-(i+1))/n)*-h) + (((n/2 - i)/n)*-h))\n",
    "    sigma_global[i] = (Q_dash[i]@(epsilon_0_global + (z[i]*K_global)))\n",
    "    print(\"==============================\")\n",
    "    print(\"Resultados lâmina %d:\" %(i+1))\n",
    "    print(\"Tensão na lâmina no sistema global de coordenadas (MPa): \")\n",
    "    print(sigma_global[i]*10**-6)\n",
    "    sigma_local[i] = T[i]@sigma_global[i]\n",
    "    print(\"Tensão na lâmina no sistema local de coordenadas (MPa):\")\n",
    "    print(sigma_local[i]*10**-6)\n",
    "    epsilon_global[i] = epsilon_0_global + z[i]*K_global\n",
    "    print(\"Deformação no plano médio da lâmina no sistema global de coordenadas:\")\n",
    "    print(epsilon_global[i])\n",
    "    epsilon_local[i] = T[i]@epsilon_global[i]\n",
    "    print(\"Deformação no plano médio da lâmina no sistema local de coordenadas:\")\n",
    "    print(epsilon_local[i])   "
   ]
  },
  {
   "cell_type": "markdown",
   "id": "d55ff7b0",
   "metadata": {},
   "source": [
    "## Análise de falhas: Máxima tração"
   ]
  },
  {
   "cell_type": "code",
   "execution_count": 130,
   "id": "72c55fb5",
   "metadata": {},
   "outputs": [
    {
     "name": "stdout",
     "output_type": "stream",
     "text": [
      "Margem de segurança pelo critério da máxima tensão: 2.300 \n"
     ]
    }
   ],
   "source": [
    "CS_1 = [[0 for _ in range(1)] for _ in range(n)]\n",
    "CS_2 = [[0 for _ in range(1)] for _ in range(n)]\n",
    "CS_12 = [[0 for _ in range(1)] for _ in range(n)]\n",
    "\n",
    "for i in range(n):\n",
    "    if sigma_local[i][0,0] > 0:\n",
    "        CS_1[i] = XT/sigma_local[i][0,0]\n",
    "    else:\n",
    "        CS_1[i] = (XC)/sigma_local[i][0,0]\n",
    "\n",
    "    if sigma_local[i][1,0] > 0:\n",
    "        CS_2[i] = YT/sigma_local[i][1,0] \n",
    "    else:\n",
    "        CS_2[i] = (YC)/sigma_local[i][1,0] \n",
    "\n",
    "    if sigma_local[i][2,0] > 0:\n",
    "        CS_12[i] = S12/abs(sigma_local[i][2,0])\n",
    "    else:\n",
    "        CS_12[i] = S12/abs(sigma_local[i][2,0])\n",
    "   \n",
    "CS = min([min(CS_1),min(CS_2),min(CS_12)])\n",
    "\n",
    "# resultados:\n",
    "print(\"Margem de segurança pelo critério da máxima tensão: %.3f \" %CS)"
   ]
  },
  {
   "cell_type": "markdown",
   "id": "b5159ecf",
   "metadata": {},
   "source": [
    "## Tsai-Hill"
   ]
  },
  {
   "cell_type": "code",
   "execution_count": 131,
   "id": "532907fb",
   "metadata": {},
   "outputs": [
    {
     "name": "stdout",
     "output_type": "stream",
     "text": [
      "Margem de segurança pelo critério de Tsai-Hill: nan \n"
     ]
    },
    {
     "name": "stderr",
     "output_type": "stream",
     "text": [
      "<ipython-input-131-a186eefc214c>:6: RuntimeWarning: invalid value encountered in sqrt\n",
      "  FS_TH[i] = np.sqrt((sigma_local[i][0,0]/XT)**2 + (sigma_local[i][1,0]/YT)**2 - (sigma_local[i][1,0]*sigma_local[i][0,0]/(XT**2)+(sigma_local[i][2,0]/S12)**2))\n"
     ]
    }
   ],
   "source": [
    "FS_TH = [[0 for _ in range(1)] for _ in range(n)]\n",
    "MS_TH = [[0 for _ in range(1)] for _ in range(n)]\n",
    "\n",
    "for i in range(n):\n",
    "    if sigma_local[i][0,0] > 0 and sigma_local[i][1,0] > 0:\n",
    "        FS_TH[i] = np.sqrt((sigma_local[i][0,0]/XT)**2 + (sigma_local[i][1,0]/YT)**2 - (sigma_local[i][1,0]*sigma_local[i][0,0]/(XT**2)+(sigma_local[i][2,0]/S12)**2))\n",
    "        MS_TH[i] = 1/FS_TH[i]\n",
    "    elif sigma_local[i][0,0] < 0 and sigma_local[i][1,0] > 0:\n",
    "        FS_TH[i] = np.sqrt((sigma_local[i][0,0]/XC)**2 + (sigma_local[i][1,0]/YT)**2 - (sigma_local[i][1,0]*sigma_local[i][0,0]/(XC**2)+(sigma_local[i][2,0]/S12)**2))\n",
    "        MS_TH[i] = 1/FS_TH[i] \n",
    "    elif sigma_local[i][0,0] < 0 and sigma_local[i][1,0] < 0:\n",
    "        FS_TH[i] = np.sqrt((sigma_local[i][0,0]/XC)**2 + (sigma_local[i][1,0]/YC)**2 - (sigma_local[i][1,0]*sigma_local[i][0,0]/(XC**2)+(sigma_local[i][2,0]/S12)**2))\n",
    "        MS_TH[i] = 1/FS_TH[i]\n",
    "    elif sigma_local[i][0,0] > 0 and sigma_local[i][1,0] < 0:\n",
    "        FS_TH[i] = np.sqrt((sigma_local[i][0,0]/XT)**2 + (sigma_local[i][1,0]/YC)**2 - (sigma_local[i][1,0]*sigma_local[i][0,0]/(XT**2)+(sigma_local[i][2,0]/S12)**2))\n",
    "        MS_TH[i] = 1/FS_TH[i]   \n",
    "   \n",
    "\n",
    "print(\"Margem de segurança pelo critério de Tsai-Hill: %.3f \" %(min(MS_TH)))\n"
   ]
  },
  {
   "cell_type": "markdown",
   "id": "73a9063d",
   "metadata": {},
   "source": [
    "## Tsai-Wu"
   ]
  },
  {
   "cell_type": "code",
   "execution_count": 132,
   "id": "1b95c67d",
   "metadata": {},
   "outputs": [
    {
     "name": "stdout",
     "output_type": "stream",
     "text": [
      "[2.588331593851399, 2.164849777070766, 2.2062931531281778, 2.6877364255064293, 2.3895592524564715, 2.985977963385515]\n"
     ]
    }
   ],
   "source": [
    "import math\n",
    "F1 = 1/XT + 1/XC\n",
    "F2 = 1/YT + 1/YC\n",
    "F11 = -1/(XT*XC)\n",
    "F22 = -1/(YT*YC)\n",
    "F66 = (1/S12)**2\n",
    "F12 = -0.5*np.sqrt(F11*F22)\n",
    "\n",
    "A = [[0 for _ in range(1)] for _ in range(n)]\n",
    "B = [[0 for _ in range(1)] for _ in range(n)]\n",
    "Sf_pos = [[0 for _ in range(1)] for _ in range(n)]\n",
    "Sf_neg = [[0 for _ in range(1)] for _ in range(n)]\n",
    "Sf = [[0 for _ in range(1)] for _ in range(n)]\n",
    "\n",
    "for i in range(n):\n",
    "    A[i] = F11*sigma_local[i][0,0]**2 + F22*sigma_local[i][1,0]**2 + F66*sigma_local[i][2,0]**2 + 2*F12*sigma_local[i][0,0]*sigma_local[i][1,0]\n",
    "    B[i] = F1*sigma_local[i][0,0] + F2*sigma_local[i][1,0]\n",
    "    Sf_pos[i] = (-B[i] + np.sqrt(B[i]**2 + 4*A[i]))/(2*A[i])\n",
    "    Sf_neg[i] = abs((-B[i] - np.sqrt(B[i]**2 + 4*A[i]))/(2*A[i]))\n",
    "\n",
    "    Sf[i] = min(Sf_pos[i],Sf_neg[i])\n",
    "\n",
    "print(Sf)"
   ]
  },
  {
   "cell_type": "markdown",
   "id": "823b056e",
   "metadata": {},
   "source": [
    "## Curvas de falha"
   ]
  },
  {
   "cell_type": "code",
   "execution_count": 133,
   "id": "a8605729",
   "metadata": {},
   "outputs": [
    {
     "name": "stderr",
     "output_type": "stream",
     "text": [
      "<ipython-input-133-904ef5f378df>:17: RuntimeWarning: invalid value encountered in sqrt\n",
      "  sig2[k] = (np.sqrt(4*XC**2*XT**2*YC*YT*tau12**2-3*S12**2*XC*XT*YC*YT*sig1[k]**2+(((4*S12**2*XC*XT**2+4*S12**2*XC**2*XT)*YC-2*S12**2*XC**2*XT**2*YC**2*np.sqrt(1/(XC*XT*YC*YT)))*YT-2*S12**2*XC**2*XT**2*YC*np.sqrt(1/(XC*XT*YC*YT))*YT**2)*sig1[k]+S12**2*XC**2*XT**2*YT**2-2*S12**2*XC**2*XT**2*YC*YT+S12**2*XC**2*XT**2*YC**2)-S12*XC*XT*YC*np.sqrt(1/(XC*XT*YC*YT))*YT*sig1[k]+S12*XC*XT*YT+S12*XC*XT*YC)/(2*S12*XC*XT)\n",
      "<ipython-input-133-904ef5f378df>:18: RuntimeWarning: invalid value encountered in sqrt\n",
      "  sig3[k] = -(np.sqrt(4*XC**2*XT**2*YC*YT*tau12**2-3*S12**2*XC*XT*YC*YT*sig1[k]**2+(((4*S12**2*XC*XT**2+4*S12**2*XC**2*XT)*YC-2*S12**2*XC**2*XT**2*YC**2*np.sqrt(1/(XC*XT*YC*YT)))*YT-2*S12**2*XC**2*XT**2*YC*np.sqrt(1/(XC*XT*YC*YT))*YT**2)*sig1[k]+S12**2*XC**2*XT**2*YT**2-2*S12**2*XC**2*XT**2*YC*YT+S12**2*XC**2*XT**2*YC**2)+S12*XC*XT*YC*np.sqrt(1/(XC*XT*YC*YT))*YT*sig1[k]-S12*XC*XT*YT-S12*XC*XT*YC)/(2*S12*XC*XT)\n"
     ]
    },
    {
     "data": {
      "image/png": "[encoded data removed]",
      "text/plain": [
       "<Figure size 1080x576 with 1 Axes>"
      ]
     },
     "metadata": {
      "needs_background": "light"
     },
     "output_type": "display_data"
    }
   ],
   "source": [
    "# Função para construção dos gráficos\n",
    "def grafalha(XT,XC,YT,YC,S12,sigc,sigt,tau12,vtor):\n",
    "    for k in range(249):\n",
    "        vtor[k]     = (YT*np.sqrt(-4*XT**4*tau12**2+(S12**2*YT**2-4*S12**2*XT**2)*sigt[k]**2+4*S12**2*XT**4)-S12*YT**2*sigt[k])/(2*S12*XT**2)\n",
    "        vtor[k+250] = (YT*np.sqrt(-4*XC**4*tau12**2+(S12**2*YT**2-4*S12**2*XC**2)*sigc[k]**2+4*S12**2*XC**4)+S12*YT**2*sigc[k])/(2*S12*XC**2)\n",
    "        vtor[k+500] = (YC*np.sqrt(-4*XC**4*tau12**2+(S12**2*YC**2-4*S12**2*XC**2)*sigc[k]**2+4*S12**2*XC**4)-S12*YC**2*sigc[k])/(2*S12*XC**2)\n",
    "        vtor[k+750] = (YC*np.sqrt(-4*XT**4*tau12**2+(S12**2*YC**2-4*S12**2*XT**2)*sigt[k]**2+4*S12**2*XT**4)+S12*YC**2*sigt[k])/(2*S12*XT**2)\n",
    "    \n",
    "    x_inter1 = -(2*(YC*YT*(S12**2*XC*XT*YC**2 + S12**2*XC*XT*YT**2 + S12**2*XC**2*YC*YT + S12**2*XT**2*YC*YT + S12**2*XC*XT*YC*YT + 3*XC*XT*YC*YT*tau12**2 - S12**2*XC*XT**2*YC*YT**2*(1/(XC*XT*YC*YT))**(1/2) - S12**2*XC*XT**2*YC**2*YT*(1/(XC*XT*YC*YT))**(1/2) - S12**2*XC**2*XT*YC*YT**2*(1/(XC*XT*YC*YT))**(1/2) - S12**2*XC**2*XT*YC**2*YT*(1/(XC*XT*YC*YT))**(1/2)))**(1/2) - 2*S12*XC*YC*YT - 2*S12*XT*YC*YT + S12*XC*XT*YC*YT**2*(1/(XC*XT*YC*YT))**(1/2) + S12*XC*XT*YC**2*YT*(1/(XC*XT*YC*YT))**(1/2))/(3*S12*YC*YT)\n",
    "    x_inter2 = (2*(YC*YT*(S12**2*XC*XT*YC**2 + S12**2*XC*XT*YT**2 + S12**2*XC**2*YC*YT + S12**2*XT**2*YC*YT + S12**2*XC*XT*YC*YT + 3*XC*XT*YC*YT*tau12**2 - S12**2*XC*XT**2*YC*YT**2*(1/(XC*XT*YC*YT))**(1/2) - S12**2*XC*XT**2*YC**2*YT*(1/(XC*XT*YC*YT))**(1/2) - S12**2*XC**2*XT*YC*YT**2*(1/(XC*XT*YC*YT))**(1/2) - S12**2*XC**2*XT*YC**2*YT*(1/(XC*XT*YC*YT))**(1/2)))**(1/2) + 2*S12*XC*YC*YT + 2*S12*XT*YC*YT - S12*XC*XT*YC*YT**2*(1/(XC*XT*YC*YT))**(1/2) - S12*XC*XT*YC**2*YT*(1/(XC*XT*YC*YT))**(1/2))/(3*S12*YC*YT)\n",
    "    \n",
    "    sig1 = np.linspace(x_inter1,x_inter2, 1000)\n",
    "    sig2 = np.linspace(0, 0, 1000)\n",
    "    sig3 = np.linspace(0, 0, 1000)\n",
    "\n",
    "    for k in range(1000):\n",
    "        sig2[k] = (np.sqrt(4*XC**2*XT**2*YC*YT*tau12**2-3*S12**2*XC*XT*YC*YT*sig1[k]**2+(((4*S12**2*XC*XT**2+4*S12**2*XC**2*XT)*YC-2*S12**2*XC**2*XT**2*YC**2*np.sqrt(1/(XC*XT*YC*YT)))*YT-2*S12**2*XC**2*XT**2*YC*np.sqrt(1/(XC*XT*YC*YT))*YT**2)*sig1[k]+S12**2*XC**2*XT**2*YT**2-2*S12**2*XC**2*XT**2*YC*YT+S12**2*XC**2*XT**2*YC**2)-S12*XC*XT*YC*np.sqrt(1/(XC*XT*YC*YT))*YT*sig1[k]+S12*XC*XT*YT+S12*XC*XT*YC)/(2*S12*XC*XT)\n",
    "        sig3[k] = -(np.sqrt(4*XC**2*XT**2*YC*YT*tau12**2-3*S12**2*XC*XT*YC*YT*sig1[k]**2+(((4*S12**2*XC*XT**2+4*S12**2*XC**2*XT)*YC-2*S12**2*XC**2*XT**2*YC**2*np.sqrt(1/(XC*XT*YC*YT)))*YT-2*S12**2*XC**2*XT**2*YC*np.sqrt(1/(XC*XT*YC*YT))*YT**2)*sig1[k]+S12**2*XC**2*XT**2*YT**2-2*S12**2*XC**2*XT**2*YC*YT+S12**2*XC**2*XT**2*YC**2)+S12*XC*XT*YC*np.sqrt(1/(XC*XT*YC*YT))*YT*sig1[k]-S12*XC*XT*YT-S12*XC*XT*YC)/(2*S12*XC*XT)\n",
    "    \n",
    "    # Tamanho da figura\n",
    "    plt.figure(figsize=(15,8))\n",
    "\n",
    "    # Curva do critério da máxima tensão\n",
    "    plt.plot([XT,XC,XC,XT,XT],[YT,YT,YC,YC,YT],'g')\n",
    "\n",
    "    # Curvas de Tsai-hill\n",
    "    plt.plot(sigt,vtor[0:249],'r') #Tsai-Hill 1º Quadrante\n",
    "    plt.plot(sigc,vtor[250:499],'r') #Tsai-Hill 2º Quadrante\n",
    "    plt.plot(sigc,vtor[500:749],'r') #Tsai-Hill 3º Quadrante\n",
    "    plt.plot(sigt,vtor[750:999],'r') #Tsai-Hill 4º Quadrante\n",
    "\n",
    "    # Curvas de Tsai-Wu\n",
    "    plt.plot(sig1,sig2,'b') #Tsai-Wu Positivo\n",
    "    plt.plot(sig1,sig3,'b') #Tsai-Wu Negativo\n",
    "\n",
    "    for i in range(n):\n",
    "        plt.plot(sigma_local[i][0,0],sigma_local[i][1,0],'ro')\n",
    "   \n",
    "    plt.title('Análise de Falha')\n",
    "    plt.xlabel(\"${\\sigma_1}$ [Pa]\")\n",
    "    plt.ylabel(\"${\\sigma_2}$ [Pa]\")\n",
    "    plt.grid()\n",
    "\n",
    "#Tensão genérica\n",
    "sigc = np.linspace(XC, 0, 249)\n",
    "sigt = np.linspace(0, XT, 249)\n",
    "tau12 = 0\n",
    "vtor = np.linspace(0, 0, 1000)\n",
    "\n",
    "fig0 = grafalha(XT,XC,YT,YC,S12,sigc,sigt,tau12,vtor)"
   ]
  },
  {
   "cell_type": "code",
   "execution_count": null,
   "id": "2c8762ab",
   "metadata": {},
   "outputs": [],
   "source": []
  }
 ],
 "metadata": {
  "kernelspec": {
   "display_name": "Python 3",
   "language": "python",
   "name": "python3"
  },
  "language_info": {
   "codemirror_mode": {
    "name": "ipython",
    "version": 3
   },
   "file_extension": ".py",
   "mimetype": "text/x-python",
   "name": "python",
   "nbconvert_exporter": "python",
   "pygments_lexer": "ipython3",
   "version": "3.8.8"
  },
  "vscode": {
   "interpreter": {
    "hash": "108e5f22bfb80c194968c4d8788f0cbe4cd0be3d6d353645b9b42c2d56b0e8e7"
   }
  }
 },
 "nbformat": 4,
 "nbformat_minor": 5
}
